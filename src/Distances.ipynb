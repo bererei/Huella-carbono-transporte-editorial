{
 "cells": [
  {
   "cell_type": "markdown",
   "metadata": {},
   "source": [
    "# Distancias"
   ]
  },
  {
   "cell_type": "code",
   "execution_count": 1,
   "metadata": {},
   "outputs": [],
   "source": [
    "from configparser import ConfigParser\n",
    "import json\n",
    "import csv\n",
    "import numpy as np\n",
    "import pandas as pd\n",
    "import googlemaps\n",
    "from unidecode import unidecode"
   ]
  },
  {
   "cell_type": "markdown",
   "metadata": {},
   "source": [
    "## 1. Distance from Port of Las Palmas to final destination"
   ]
  },
  {
   "cell_type": "markdown",
   "metadata": {},
   "source": [
    "### Coordinates ports"
   ]
  },
  {
   "cell_type": "code",
   "execution_count": 2,
   "metadata": {},
   "outputs": [],
   "source": [
    "# Dataframe coordinates origin-destination ports\n",
    "ports = pd.read_csv('../data/raw/CoordenadasPuertos.csv')\n",
    "\n",
    "# New variable latlon\n",
    "ports['latlon'] = ports['lat'].astype(str) + ',' + ports['lon'].astype(str)"
   ]
  },
  {
   "cell_type": "code",
   "execution_count": 3,
   "metadata": {},
   "outputs": [],
   "source": [
    "# Port of Las Palmas\n",
    "port_lp = ports[ports['port_name'] =='LAS PALMAS']\n",
    "port_lp_latlon_a = tuple(map(float, port_lp['latlon'].tolist()[0].split(',')))\n",
    "\n",
    "# Dataframe coordinates destination. Place where books will be finally delivered.\n",
    "final_dest_latlon_b = (28.086528,-15.434806)"
   ]
  },
  {
   "cell_type": "markdown",
   "metadata": {},
   "source": [
    "### Google Maps API: Distance from Port of Las Palmas to delivery point"
   ]
  },
  {
   "cell_type": "code",
   "execution_count": 4,
   "metadata": {},
   "outputs": [],
   "source": [
    "# Get google maps api key\n",
    "config = ConfigParser()\n",
    "config.read('../config/mysecrets.cfg')\n",
    "API_key = config['googlemaps']['auth_key']\n",
    "\n",
    "# Instantiate google maps client\n",
    "gmaps = googlemaps.Client(key=API_key)"
   ]
  },
  {
   "cell_type": "code",
   "execution_count": 5,
   "metadata": {},
   "outputs": [],
   "source": [
    "# Distance with Google Maps API\n",
    "portlp_final_dist = gmaps.distance_matrix(port_lp_latlon_a, final_dest_latlon_b, mode='driving')[\"rows\"][0][\"elements\"][0][\"distance\"][\"value\"]\n",
    "portlp_final_dist = portlp_final_dist/1000\n",
    "\n",
    "# Crear dataframe\n",
    "port_lp = port_lp.drop(columns=['unlocode', 'lat', 'lon'])\n",
    "port_lp.rename(columns={'latlon': 'port_latlon'}, inplace=True)\n",
    "port_lp['punto_llegada_latlon'] = str(final_dest_latlon_b).replace('(','').replace(')','').replace(' ', '')\n",
    "port_lp['descarga_llegada_distancia_km'] = portlp_final_dist\n",
    "\n",
    "# Write .csv\n",
    "port_lp.to_csv('../data/processed/puertodescarga_llegada_distance.csv')"
   ]
  },
  {
   "cell_type": "markdown",
   "metadata": {},
   "source": [
    "## 2. Distance from ports to Port of Las Palmas"
   ]
  },
  {
   "cell_type": "code",
   "execution_count": 6,
   "metadata": {},
   "outputs": [],
   "source": [
    "# Distances mainland ports to Las Palmas\n",
    "interport_main = pd.read_csv('../data/raw/CuadroDistancias_PuertosPeninsula.csv')\n",
    "interport_main.rename(columns={'Unnamed: 0': 'port_name', 'LAS PALMAS': 'distanceLP_nauticalmiles'}, inplace=True)\n",
    "interport_main = interport_main[['port_name', 'distanceLP_nauticalmiles']]\n",
    "interport_main = interport_main[interport_main['port_name'].isin(['TENERIFE', 'LAS PALMAS']) == False]\n",
    "\n",
    "# Distances canarian ports to Las Palmas\n",
    "interport_island = pd.read_csv('../data/raw/CuadroDistancias_PuertosCanarias.csv')\n",
    "interport_island = interport_island[['port_name', 'distanceLP_nauticalmiles']]\n",
    "\n",
    "# Distances ports\n",
    "interport_dists = pd.concat([interport_main, interport_island], ignore_index=True)\n",
    "\n",
    "# Rename\n",
    "interport_dists.rename(columns={'distanceLP_nauticalmiles': 'distanceLP_nm'}, inplace=True)\n",
    "\n",
    "# From Nautical Miles to Kilometers\n",
    "# 1 nm = 1.852 km\n",
    "interport_dists['distanceLP_km'] = interport_dists['distanceLP_nm'] * 1.852\n",
    "\n",
    "# Write .csv\n",
    "interport_dists.to_csv('../data/processed/port_portlp_distance.csv')\n"
   ]
  },
  {
   "cell_type": "markdown",
   "metadata": {},
   "source": [
    "## 3. Shortest distance to port"
   ]
  },
  {
   "cell_type": "markdown",
   "metadata": {},
   "source": [
    "### Get data"
   ]
  },
  {
   "cell_type": "markdown",
   "metadata": {},
   "source": [
    "#### Coordinates cities"
   ]
  },
  {
   "cell_type": "code",
   "execution_count": 7,
   "metadata": {},
   "outputs": [],
   "source": [
    "# Dataframe coordinates origin-cities\n",
    "# Opening json file and loading it as a dictionary python object\n",
    "with open('../data/raw/spain-cities.json', 'r') as f:\n",
    "    cities = json.load(f)\n",
    "\n",
    "# Origin data: create .csv\n",
    "canarias_keep = ['San Sebastián de la Gomera', 'Santa Cruz de la Palma', 'Valverde', \n",
    "               'Santa Cruz de Tenerife', 'Las Palmas de Gran Canaria', 'Arrecife', \n",
    "               'Puerto del Rosario']\n",
    "# writer\n",
    "with open('../data/processed/origins.csv', 'w+') as file: # create file if it doesn't exist\n",
    "    writer = csv.writer(file, delimiter=',', lineterminator='\\n')\n",
    "    writer.writerow(['id', 'name', 'population', 'lat', 'lon'])\n",
    "    for i in range(len(cities)):\n",
    "        name_check = cities[i]['fields']['name']\n",
    "        if name_check in canarias_keep:\n",
    "            name = [name_check]\n",
    "            population = [cities[i]['fields']['population']]\n",
    "            lat = [cities[i]['fields']['coordinates'][0]]\n",
    "            lon = [cities[i]['fields']['coordinates'][1]]\n",
    "            row = [i] + name + population + lat + lon\n",
    "            writer.writerow(row)\n",
    "        else:\n",
    "            population = [cities[i]['fields']['population']]\n",
    "            if population[0] >= 50000:\n",
    "                name = [name_check]\n",
    "                lat = [cities[i]['fields']['coordinates'][0]]\n",
    "                lon = [cities[i]['fields']['coordinates'][1]]\n",
    "                row = [i] + name + population + lat + lon\n",
    "                writer.writerow(row)\n",
    "\n",
    "# reader\n",
    "origins = pd.read_csv('../data/processed/origins.csv')\n",
    "\n",
    "# New variable latlon\n",
    "origins['latlon'] = origins['lat'].astype(str) + ',' + origins['lon'].astype(str)\n",
    "\n",
    "# Format city names\n",
    "origins['name'] = origins['name'].str.upper()\n",
    "origins['name'] = origins['name'].apply(unidecode)\n"
   ]
  },
  {
   "cell_type": "markdown",
   "metadata": {},
   "source": [
    "#### Coordinates ports of origin"
   ]
  },
  {
   "cell_type": "code",
   "execution_count": 8,
   "metadata": {},
   "outputs": [],
   "source": [
    "# Ports of origin\n",
    "# Not all ports in the dataset are common starting points to go to Gran Canaria.\n",
    "common_ports = ['ALGECIRAS', 'VALENCIA', 'BARCELONA', 'BILBAO', 'CASTELLON',\n",
    "                'CADIZ', 'SEVILLA', 'VILAGARCIA', 'ALICANTE', 'SANTANDER', 'VIGO',\n",
    "                'TENERIFE', 'ARRECIFE', 'LA PALMA', 'LA ESTACA', 'PUERTO DEL ROSARIO', 'LA GOMERA', 'LAS PALMAS']\n",
    "ports_og = ports[ports['port_name'].isin(common_ports)]"
   ]
  },
  {
   "cell_type": "markdown",
   "metadata": {},
   "source": [
    "### Google API shortest distance to port"
   ]
  },
  {
   "cell_type": "code",
   "execution_count": 9,
   "metadata": {},
   "outputs": [],
   "source": [
    "shortest_distances_to_port = []\n",
    "\n",
    "for coordinate_a in origins['latlon']:\n",
    "    city_latlon_a = tuple(map(float, coordinate_a.split(',')))\n",
    "    distance_to_port = np.nan\n",
    "    for index, row in ports_og.iterrows():\n",
    "        port_latlon = row['latlon']\n",
    "        port_latlon_b = tuple(map(float, port_latlon.split(',')))\n",
    "        distance_temp = gmaps.distance_matrix(city_latlon_a, port_latlon_b, mode='driving')[\"rows\"][0][\"elements\"][0][\"distance\"][\"value\"]\n",
    "        distance_temp = distance_temp/1000\n",
    "        if np.isnan(distance_to_port):\n",
    "            distance_to_port = distance_temp\n",
    "            port_name = row['port_name']\n",
    "            result_add = [port_name, port_latlon, distance_to_port]\n",
    "        else:\n",
    "            if distance_temp < distance_to_port:\n",
    "                distance_to_port = distance_temp\n",
    "                port_name = row['port_name']\n",
    "                result_add = [port_name, port_latlon, distance_to_port] \n",
    "    shortest_distances_to_port.append(result_add)\n",
    "    shortest_distances_to_port_df = pd.DataFrame(shortest_distances_to_port, columns = ['port_name', 'port_latlon', 'shortest_distance_to_port_km'])\n",
    "\n",
    "og_port_distance = pd.concat([origins, shortest_distances_to_port_df], axis=1)\n",
    "\n",
    "\n",
    "# Write .csv\n",
    "og_port_distance.to_csv('../data/processed/city_port_distance.csv')\n",
    "\n",
    "# # Read .csv\n",
    "og_port_distance = pd.read_csv('../data/processed/city_port_distance.csv')\n",
    "og_port_distance.drop(columns=['Unnamed: 0', 'id', 'lat', 'lon'], inplace=True)\n"
   ]
  },
  {
   "cell_type": "code",
   "execution_count": 10,
   "metadata": {},
   "outputs": [
    {
     "data": {
      "text/html": [
       "<div>\n",
       "<style scoped>\n",
       "    .dataframe tbody tr th:only-of-type {\n",
       "        vertical-align: middle;\n",
       "    }\n",
       "\n",
       "    .dataframe tbody tr th {\n",
       "        vertical-align: top;\n",
       "    }\n",
       "\n",
       "    .dataframe thead th {\n",
       "        text-align: right;\n",
       "    }\n",
       "</style>\n",
       "<table border=\"1\" class=\"dataframe\">\n",
       "  <thead>\n",
       "    <tr style=\"text-align: right;\">\n",
       "      <th></th>\n",
       "      <th>name</th>\n",
       "      <th>population</th>\n",
       "      <th>latlon</th>\n",
       "      <th>port_name</th>\n",
       "      <th>port_latlon</th>\n",
       "      <th>shortest_distance_to_port_km</th>\n",
       "    </tr>\n",
       "  </thead>\n",
       "  <tbody>\n",
       "    <tr>\n",
       "      <th>117</th>\n",
       "      <td>SAN BARTOLOME DE TIRAJANA</td>\n",
       "      <td>52161</td>\n",
       "      <td>27.92481,-15.57329</td>\n",
       "      <td>LAS PALMAS</td>\n",
       "      <td>28.141,-15.41635</td>\n",
       "      <td>64.859</td>\n",
       "    </tr>\n",
       "    <tr>\n",
       "      <th>124</th>\n",
       "      <td>LAS PALMAS DE GRAN CANARIA</td>\n",
       "      <td>381847</td>\n",
       "      <td>28.09973,-15.41343</td>\n",
       "      <td>LAS PALMAS</td>\n",
       "      <td>28.141,-15.41635</td>\n",
       "      <td>10.411</td>\n",
       "    </tr>\n",
       "    <tr>\n",
       "      <th>132</th>\n",
       "      <td>SANTA LUCIA</td>\n",
       "      <td>63637</td>\n",
       "      <td>27.91174,-15.54071</td>\n",
       "      <td>LAS PALMAS</td>\n",
       "      <td>28.141,-15.41635</td>\n",
       "      <td>57.685</td>\n",
       "    </tr>\n",
       "    <tr>\n",
       "      <th>173</th>\n",
       "      <td>TELDE</td>\n",
       "      <td>100015</td>\n",
       "      <td>27.99243,-15.41915</td>\n",
       "      <td>LAS PALMAS</td>\n",
       "      <td>28.141,-15.41635</td>\n",
       "      <td>24.596</td>\n",
       "    </tr>\n",
       "  </tbody>\n",
       "</table>\n",
       "</div>"
      ],
      "text/plain": [
       "                           name  population              latlon   port_name  \\\n",
       "117   SAN BARTOLOME DE TIRAJANA       52161  27.92481,-15.57329  LAS PALMAS   \n",
       "124  LAS PALMAS DE GRAN CANARIA      381847  28.09973,-15.41343  LAS PALMAS   \n",
       "132                 SANTA LUCIA       63637  27.91174,-15.54071  LAS PALMAS   \n",
       "173                       TELDE      100015  27.99243,-15.41915  LAS PALMAS   \n",
       "\n",
       "          port_latlon  shortest_distance_to_port_km  \n",
       "117  28.141,-15.41635                        64.859  \n",
       "124  28.141,-15.41635                        10.411  \n",
       "132  28.141,-15.41635                        57.685  \n",
       "173  28.141,-15.41635                        24.596  "
      ]
     },
     "execution_count": 10,
     "metadata": {},
     "output_type": "execute_result"
    }
   ],
   "source": [
    "og_port_distance[og_port_distance['port_name']=='LAS PALMAS']"
   ]
  },
  {
   "cell_type": "markdown",
   "metadata": {},
   "source": [
    "## 4. Distance from starting points in Gran Canaria to delivery point"
   ]
  },
  {
   "cell_type": "code",
   "execution_count": 14,
   "metadata": {},
   "outputs": [],
   "source": [
    "# Dataframe de salidas en Gran Canaria y que irán directamente al punto de destino\n",
    "cityGC_destination_distance = og_port_distance[og_port_distance['port_name']=='LAS PALMAS'].copy()\n",
    "cityGC_destination_distance.drop(columns=['port_name', 'port_latlon', 'shortest_distance_to_port_km'], inplace=True)\n",
    "cityGC_destination_distance['punto_llegada_latlon'] = str(final_dest_latlon_b).replace('(','').replace(')','').replace(' ', '')"
   ]
  },
  {
   "cell_type": "code",
   "execution_count": 15,
   "metadata": {},
   "outputs": [],
   "source": [
    "origins = cityGC_destination_distance.copy()\n",
    "distance_to_destination = []\n",
    "\n",
    "for coordinate_a in origins['latlon']:\n",
    "    city_latlon_a = tuple(map(float, coordinate_a.split(',')))\n",
    "    distance_temp = gmaps.distance_matrix(city_latlon_a, final_dest_latlon_b, mode='driving')[\"rows\"][0][\"elements\"][0][\"distance\"][\"value\"]\n",
    "    distance = distance_temp/1000\n",
    "    distance_to_destination.append(distance)\n",
    "\n",
    "# Añadir distancias al dataframe\n",
    "cityGC_destination_distance['salida_llegada_distancia_km'] = distance_to_destination\n",
    "\n",
    "# Write .csv\n",
    "cityGC_destination_distance.to_csv('../data/processed/cityGC_destination_distance.csv')"
   ]
  },
  {
   "cell_type": "code",
   "execution_count": null,
   "metadata": {},
   "outputs": [],
   "source": []
  }
 ],
 "metadata": {
  "kernelspec": {
   "display_name": "Huella-carbono-transporte-editorial-rRnBe7lo",
   "language": "python",
   "name": "python3"
  },
  "language_info": {
   "codemirror_mode": {
    "name": "ipython",
    "version": 3
   },
   "file_extension": ".py",
   "mimetype": "text/x-python",
   "name": "python",
   "nbconvert_exporter": "python",
   "pygments_lexer": "ipython3",
   "version": "3.10.6"
  },
  "orig_nbformat": 4
 },
 "nbformat": 4,
 "nbformat_minor": 2
}
