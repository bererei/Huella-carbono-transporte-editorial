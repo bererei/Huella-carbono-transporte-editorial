{
 "cells": [
  {
   "cell_type": "markdown",
   "metadata": {},
   "source": [
    "# Cálculo huella carbono"
   ]
  },
  {
   "cell_type": "code",
   "execution_count": 71,
   "metadata": {},
   "outputs": [],
   "source": [
    "import pandas as pd\n",
    "from unidecode import unidecode"
   ]
  },
  {
   "cell_type": "markdown",
   "metadata": {},
   "source": [
    "## Peso y volumen de los libros"
   ]
  },
  {
   "cell_type": "code",
   "execution_count": 72,
   "metadata": {},
   "outputs": [
    {
     "data": {
      "text/html": [
       "<div>\n",
       "<style scoped>\n",
       "    .dataframe tbody tr th:only-of-type {\n",
       "        vertical-align: middle;\n",
       "    }\n",
       "\n",
       "    .dataframe tbody tr th {\n",
       "        vertical-align: top;\n",
       "    }\n",
       "\n",
       "    .dataframe thead th {\n",
       "        text-align: right;\n",
       "    }\n",
       "</style>\n",
       "<table border=\"1\" class=\"dataframe\">\n",
       "  <thead>\n",
       "    <tr style=\"text-align: right;\">\n",
       "      <th></th>\n",
       "      <th>libro_titulo</th>\n",
       "      <th>libro_isbn</th>\n",
       "      <th>ancho_cm</th>\n",
       "      <th>alto_cm</th>\n",
       "      <th>grosor_cm</th>\n",
       "      <th>paginas</th>\n",
       "      <th>vol_cm3_1libro</th>\n",
       "      <th>vol_m3_500libros</th>\n",
       "      <th>peso_g_1libro</th>\n",
       "      <th>peso_t_500libros</th>\n",
       "    </tr>\n",
       "  </thead>\n",
       "  <tbody>\n",
       "    <tr>\n",
       "      <th>0</th>\n",
       "      <td>Niebla de sueño</td>\n",
       "      <td>978-84-1353-114-4</td>\n",
       "      <td>13</td>\n",
       "      <td>19</td>\n",
       "      <td>1.2</td>\n",
       "      <td>162</td>\n",
       "      <td>296.4</td>\n",
       "      <td>0.14820</td>\n",
       "      <td>250</td>\n",
       "      <td>0.125</td>\n",
       "    </tr>\n",
       "    <tr>\n",
       "      <th>1</th>\n",
       "      <td>La isla de los canarios. Volumen 6</td>\n",
       "      <td>978-84-1353-115-1</td>\n",
       "      <td>21</td>\n",
       "      <td>23</td>\n",
       "      <td>0.8</td>\n",
       "      <td>92</td>\n",
       "      <td>386.4</td>\n",
       "      <td>0.19320</td>\n",
       "      <td>400</td>\n",
       "      <td>0.200</td>\n",
       "    </tr>\n",
       "    <tr>\n",
       "      <th>2</th>\n",
       "      <td>El mundo del libro en Canarias</td>\n",
       "      <td>84-8103-396-0</td>\n",
       "      <td>15</td>\n",
       "      <td>21</td>\n",
       "      <td>3.1</td>\n",
       "      <td>532</td>\n",
       "      <td>976.5</td>\n",
       "      <td>0.48825</td>\n",
       "      <td>780</td>\n",
       "      <td>0.390</td>\n",
       "    </tr>\n",
       "    <tr>\n",
       "      <th>3</th>\n",
       "      <td>Historia del Cabildo insular de Gran Canaria</td>\n",
       "      <td>84-8103-067-8</td>\n",
       "      <td>17</td>\n",
       "      <td>24</td>\n",
       "      <td>3.9</td>\n",
       "      <td>748</td>\n",
       "      <td>1591.2</td>\n",
       "      <td>0.79560</td>\n",
       "      <td>1240</td>\n",
       "      <td>0.620</td>\n",
       "    </tr>\n",
       "    <tr>\n",
       "      <th>4</th>\n",
       "      <td>Flora de Gran Canaria 1</td>\n",
       "      <td>978-84-8103-741</td>\n",
       "      <td>27</td>\n",
       "      <td>34</td>\n",
       "      <td>3.0</td>\n",
       "      <td>238</td>\n",
       "      <td>2754.0</td>\n",
       "      <td>1.37700</td>\n",
       "      <td>2280</td>\n",
       "      <td>1.140</td>\n",
       "    </tr>\n",
       "  </tbody>\n",
       "</table>\n",
       "</div>"
      ],
      "text/plain": [
       "                                   libro_titulo         libro_isbn  ancho_cm  \\\n",
       "0                               Niebla de sueño  978-84-1353-114-4        13   \n",
       "1            La isla de los canarios. Volumen 6  978-84-1353-115-1        21   \n",
       "2                El mundo del libro en Canarias      84-8103-396-0        15   \n",
       "3  Historia del Cabildo insular de Gran Canaria      84-8103-067-8        17   \n",
       "4                       Flora de Gran Canaria 1    978-84-8103-741        27   \n",
       "\n",
       "   alto_cm  grosor_cm  paginas  vol_cm3_1libro  vol_m3_500libros  \\\n",
       "0       19        1.2      162           296.4           0.14820   \n",
       "1       23        0.8       92           386.4           0.19320   \n",
       "2       21        3.1      532           976.5           0.48825   \n",
       "3       24        3.9      748          1591.2           0.79560   \n",
       "4       34        3.0      238          2754.0           1.37700   \n",
       "\n",
       "   peso_g_1libro  peso_t_500libros  \n",
       "0            250             0.125  \n",
       "1            400             0.200  \n",
       "2            780             0.390  \n",
       "3           1240             0.620  \n",
       "4           2280             1.140  "
      ]
     },
     "metadata": {},
     "output_type": "display_data"
    }
   ],
   "source": [
    "libros = pd.read_csv('../data/raw/PesoVolumenLibros.csv', encoding='latin1')\n",
    "display(libros)"
   ]
  },
  {
   "cell_type": "markdown",
   "metadata": {},
   "source": [
    "# Etapa 1: identificación de los diferentes trayectos de este servicio de transporte"
   ]
  },
  {
   "cell_type": "markdown",
   "metadata": {},
   "source": [
    "**Ruta**. Camino (a ser) tomado para llegar de un punto de partida a un punto de destino. (AENOR2013)\n",
    "\n",
    "**Trayecto**. Para un servicio de transporte de mercancías o de pasajeros, la sección de la ruta tomada o que se ha de tomar, dentro de la cual el vehículo transporta las mercancías o el pasajero (AENOR2013)."
   ]
  },
  {
   "cell_type": "code",
   "execution_count": 73,
   "metadata": {},
   "outputs": [],
   "source": [
    "salida_carga_distance = pd.read_csv('../data/final/city_port_distance.csv')\n",
    "salida_carga_distance.drop(columns=['Unnamed: 0', 'id', 'lat', 'lon'], inplace=True)\n",
    "# Si el puerto más cercano es el de Las Palmas significa que la ciudad está en \n",
    "# Gran Canaria, por lo tanto se irá directamente al punto de despacho sin\n",
    "# necesidad de ir al puerto (este trayecto será 0).\n",
    "salida_carga_distance.loc[salida_carga_distance['port_name']=='LAS PALMAS', 'shortest_distance_to_port_km'] = 0 \n",
    "\n",
    "carga_descarga_distance = pd.read_csv('../data/final/port_portlp_distance.csv')\n",
    "carga_descarga_distance.drop(columns='Unnamed: 0', inplace=True)\n",
    "\n",
    "descarga_llegada_distance = pd.read_csv('../data/final/puertodescarga_llegada_distance.csv')\n",
    "descarga_llegada_distance.drop(columns='Unnamed: 0', inplace=True)\n",
    "\n",
    "salida_llegada_distance = pd.read_csv('../data/final/cityGC_destination_distance.csv')\n",
    "salida_llegada_distance.drop(columns='Unnamed: 0', inplace=True)"
   ]
  },
  {
   "cell_type": "code",
   "execution_count": 74,
   "metadata": {},
   "outputs": [],
   "source": [
    "# Dataframes\n",
    "salida_carga = salida_carga_distance.copy()\n",
    "\n",
    "carga_descarga = carga_descarga_distance.copy()\n",
    "\n",
    "descarga_llegada = descarga_llegada_distance.copy()\n",
    "\n",
    "salida_llegada = salida_llegada_distance.copy()"
   ]
  },
  {
   "cell_type": "markdown",
   "metadata": {},
   "source": [
    "# Etapa 2: cálculo del consumo de energía y de emisiones de GEI de cada trayecto"
   ]
  },
  {
   "cell_type": "markdown",
   "metadata": {},
   "source": [
    "## Subetapa 2.1: establecimiento del sitema de operación de un vehículo (VOS) relativo a este trayecto"
   ]
  },
  {
   "cell_type": "markdown",
   "metadata": {},
   "source": [
    "### 1. Trayecto salida-carga"
   ]
  },
  {
   "cell_type": "markdown",
   "metadata": {},
   "source": [
    "- Trayecto 1 - VOS de ciudad a puerto por carretera\n",
    "- A 12-24 t lorry transports a container (1 TEU) with average goods. El contenedor pesa 1.95 toneladas, y lleva una carga de 10.5 toneladas, por lo tanto, su peso total es 12.45 toneladas (Table 9, (Schmied2012))\n",
    "- El contenedor está cargado al 60%. **Factor de carga**. Ratio obtenido por la relación entre la carga real y la carga máxima autorizada de un medio de transporte. (AENOR2013)\n",
    "- Specific energy consumption (Table 12, (Schimied2012)) = 0.24 liter/TEU-km. Ya considera Additional empty trips +10% (Schmied2012).\n",
    "- Asumimos que el camión viaja mayoritariamente por autopistas/autovías, por terreno plano. No aplicamos factor de corrección por el uso de carreteras urbanas.\n",
    "- El motor es de diesel (no biofuel).\n",
    "- Calculamos sólo ida."
   ]
  },
  {
   "cell_type": "markdown",
   "metadata": {},
   "source": [
    "### 2. Trayecto carga-descarga"
   ]
  },
  {
   "cell_type": "markdown",
   "metadata": {},
   "source": [
    "- Trayecto 2 - VOS de puerto a Puerto de Las Palmas\n",
    "- Ruta peninsuar.\n",
    "    - Realizado siguiendo la metodología de Clean Cargo (CleanCargo2015, CleanCargo2021)\n",
    "    - No conocemos el tipo de barco que realiza el transporte, por lo que un factor de emisión asociado al tipo de barco no es lo más adecuado. En lugar de esto, conocemos el punto de salida y de llegada, así como la ruta (e.g. Europe (North and Med) to-from Africa). Como resultado, un factor de emisión agregado para la rota es más apropiado. Esto es lo que provee Clean Cargo (CleanCargo2021).\n",
    "    - Utilization factor: Se aplica un 70% como factor de utilización.\n",
    "    - Transported distance: Se obtiene de las tablas. La distancia que tenemos es la más corta. CCWG dice que siempre hay desviaciones y que la ruta real es más larga. Los estudios que ha realizado hasta la fecha que aplicando un factor de ajuste para la distancia de un 15% más mejora precisión media de las estimas de emisiones de CO2. En este estudio el factor de corrección se aplicará a los trayectos desde península, pero no entre islas. (Pragmatic solution to a complex issue).\n",
    "    - Asumimos que es un barco average para la ruta.\n",
    "    - en la Tabla 37 de (EcoTransIT2023) obtenemos orientación del número de TEUs que transportan los barcos según su línea.\n",
    "    \n",
    "- Ruta canaria.\n",
    "    - Volcán de Tamadaba (https://www.marinetraffic.com/en/ais/details/ships/shipid:168397/mmsi:224957000/imo:9360506/vessel:VOLCAN_DE_TAMADABA). Info: https://www.shipafreight.com/knowledge-series/deadweight-tonnage/. \n",
    "    - Default cargo utilisation 70% (Table 39, EcoTransIT2023).\n",
    "    - Aggregated size class < 5000 DWT (Table 38, EcoTransIT2023). De la web de Marine Traffic Summer DWT: 3400 t.\n",
    "\n"
   ]
  },
  {
   "cell_type": "markdown",
   "metadata": {},
   "source": [
    "### 3. Trayecto descarga-llegada"
   ]
  },
  {
   "cell_type": "markdown",
   "metadata": {},
   "source": [
    "- Trayecto 3 - VOS de Puerto de Las Palmas a punto de despacho\n",
    "- Un camión < 7.5 t GVW transporta average goods tiene un maximum payload de 3.5 t y como va al 60% de su capacidad total, la carga que transporta pesa 2.1 t. Additional empty trips = 20% (Schmied2012, Tabla 10)\n",
    "- Asumimos que el terreno por el que circula es relativamente plano.\n",
    "- Transporta average goods\n",
    "- En base a lo anterior, specific energy consumption litre/tkm = 0.077\n",
    "- Este trayecto se realiza en Gran Canaria (puerto-llegada) y aplicamos un factor de corrección  (Schmied2012, Tabla 11). El factor de corrección es 0.9.\n",
    "- El camión es de diesel."
   ]
  },
  {
   "cell_type": "markdown",
   "metadata": {},
   "source": [
    "### 4. Trayecto salida-llegada"
   ]
  },
  {
   "cell_type": "markdown",
   "metadata": {},
   "source": [
    "- Este trayecto corresponde al viaje desde las imprentas en Gran Canaria al punto de destino.\n",
    "- Asumimos que el camión que realiza este transporte es equivalente al que realiza el trayecto de descarga-llegada."
   ]
  },
  {
   "cell_type": "markdown",
   "metadata": {},
   "source": [
    "## Subetapa 2.2: cuantificación del consumo total de combustible para el VOS"
   ]
  },
  {
   "cell_type": "markdown",
   "metadata": {},
   "source": [
    "- La distancia a cubrir es entre las ciudades de origen en la península y en el resto de islas Canarias (no GC) está en la tabla *salida_carga_distance*.\n",
    "- Para el cálculo del consumo de combustible utilizaremos el *consumo energético específico* o *specific energy consumption*. Table 12 de (Schimied2012)"
   ]
  },
  {
   "cell_type": "markdown",
   "metadata": {},
   "source": [
    "### 1. Trayecto salida-carga"
   ]
  },
  {
   "cell_type": "code",
   "execution_count": 75,
   "metadata": {},
   "outputs": [],
   "source": [
    "# Definir funcion para el cálculo del consumo de diesel en base a la distancia.\n",
    "def salida_carga_diesel(distancia_trayecto):\n",
    "    specific_energy_consumption_lTEUkm = 0.24\n",
    "    diesel_l = distancia_trayecto * specific_energy_consumption_lTEUkm\n",
    "    return diesel_l"
   ]
  },
  {
   "cell_type": "code",
   "execution_count": 76,
   "metadata": {},
   "outputs": [],
   "source": [
    "salida_carga['consumo_diesel_TEU_l'] = salida_carga.apply(lambda row:salida_carga_diesel(row['shortest_distance_to_port_km']), axis=1)"
   ]
  },
  {
   "cell_type": "markdown",
   "metadata": {},
   "source": [
    "### 2. Trayecto carga-descarga"
   ]
  },
  {
   "cell_type": "markdown",
   "metadata": {},
   "source": [
    "#### 1. Trayecto peninsular"
   ]
  },
  {
   "cell_type": "markdown",
   "metadata": {},
   "source": [
    "#### 2. Trayecto canario"
   ]
  },
  {
   "cell_type": "markdown",
   "metadata": {},
   "source": [
    "### 3. Trayecto descarga-llegada"
   ]
  },
  {
   "cell_type": "code",
   "execution_count": 77,
   "metadata": {},
   "outputs": [],
   "source": [
    "# Definir funcion para el cálculo del consumo de diesel en base a la distancia.\n",
    "def descarga_llegada_diesel(distancia_trayecto):\n",
    "    specific_energy_consumption_ltkm = 0.077\n",
    "    actual_cargo_weight_t = 2.1\n",
    "    factor_correccion_carreteras_urbanas = 0.9\n",
    "    diesel_l = (distancia_trayecto * actual_cargo_weight_t * specific_energy_consumption_ltkm) * factor_correccion_carreteras_urbanas\n",
    "    return diesel_l"
   ]
  },
  {
   "cell_type": "code",
   "execution_count": 78,
   "metadata": {},
   "outputs": [],
   "source": [
    "descarga_llegada['consumo_diesel_total_l'] = descarga_llegada.apply(lambda row:descarga_llegada_diesel(row['descarga_llegada_distancia_km']), axis=1)"
   ]
  },
  {
   "cell_type": "markdown",
   "metadata": {},
   "source": [
    "### 4. Trayecto salida-llegada"
   ]
  },
  {
   "cell_type": "code",
   "execution_count": 79,
   "metadata": {},
   "outputs": [],
   "source": [
    "salida_llegada['consumo_diesel_total_l'] = salida_llegada.apply(lambda row:descarga_llegada_diesel(row['salida_llegada_distancia_km']), axis=1)"
   ]
  },
  {
   "cell_type": "markdown",
   "metadata": {},
   "source": [
    "## Subetapa 2.3: cálculo del consumo total de energía y de emisiones de GEI para este VOS"
   ]
  },
  {
   "cell_type": "markdown",
   "metadata": {},
   "source": [
    "En base al consumo de combustible, se calcula:\n",
    "1. Consumo de energía de total (MJ). Para esto se multiplica por los factores energéticos (WTW y TTW).\n",
    "2. Emisiones de carbono (kgCO2/e). Para esto se multiplica por los factores de emisión (WTW y TTW)."
   ]
  },
  {
   "cell_type": "markdown",
   "metadata": {},
   "source": [
    "### 1. Trayecto salida-carga"
   ]
  },
  {
   "cell_type": "markdown",
   "metadata": {},
   "source": [
    "#### Energía total"
   ]
  },
  {
   "cell_type": "code",
   "execution_count": 80,
   "metadata": {},
   "outputs": [],
   "source": [
    "# Datos (AENOR2013)\n",
    "def carretera_consumo_energetico_TTW(consumo_diesel):\n",
    "    factor_energetico_TTW_et_MJl = 35.9\n",
    "    carretera_TTW_MJ = consumo_diesel * factor_energetico_TTW_et_MJl\n",
    "    return carretera_TTW_MJ"
   ]
  },
  {
   "cell_type": "code",
   "execution_count": 81,
   "metadata": {},
   "outputs": [],
   "source": [
    "def carretera_consumo_energetico_WTW(consumo_diesel):\n",
    "    factor_energetico_WTW_ew_MJl = 42.7\n",
    "    carretera_WTW_MJ = consumo_diesel * factor_energetico_WTW_ew_MJl\n",
    "    return carretera_WTW_MJ"
   ]
  },
  {
   "cell_type": "code",
   "execution_count": 82,
   "metadata": {},
   "outputs": [],
   "source": [
    "def carretera_consumo_energetico_WTT(consumo_diesel):\n",
    "    wtw = carretera_consumo_energetico_WTW(consumo_diesel)\n",
    "    ttw = carretera_consumo_energetico_TTW(consumo_diesel)\n",
    "    wtt = wtw - ttw\n",
    "    return wtt"
   ]
  },
  {
   "cell_type": "markdown",
   "metadata": {},
   "source": [
    "#### Emisiones carbono"
   ]
  },
  {
   "cell_type": "code",
   "execution_count": 83,
   "metadata": {},
   "outputs": [],
   "source": [
    "# Datos (AENOR2013)\n",
    "def carretera_emisiones_carbono_TTW(consumo_diesel):\n",
    "    factor_emision_TTW_gt_kgCO2el = 2.67\n",
    "    carretera_TTW_kgCO2e = consumo_diesel * factor_emision_TTW_gt_kgCO2el\n",
    "    return carretera_TTW_kgCO2e"
   ]
  },
  {
   "cell_type": "code",
   "execution_count": 84,
   "metadata": {},
   "outputs": [],
   "source": [
    "def carretera_emisiones_carbono_WTW(consumo_diesel):\n",
    "    factor_emision_WTW_gw_kgCO2el = 3.24\n",
    "    carretera_WTW_kgCO2e = consumo_diesel * factor_emision_WTW_gw_kgCO2el\n",
    "    return carretera_WTW_kgCO2e"
   ]
  },
  {
   "cell_type": "code",
   "execution_count": 85,
   "metadata": {},
   "outputs": [],
   "source": [
    "def carretera_emisiones_carbono_WTT(consumo_diesel):\n",
    "    wtw = carretera_emisiones_carbono_WTW(consumo_diesel)\n",
    "    ttw = carretera_emisiones_carbono_TTW(consumo_diesel)\n",
    "    wtt = wtw - ttw\n",
    "    return wtt"
   ]
  },
  {
   "cell_type": "code",
   "execution_count": 86,
   "metadata": {},
   "outputs": [],
   "source": [
    "salida_carga['emisionesC_TTW_TEU_kgCO2e'] = salida_carga.apply(lambda row:carretera_emisiones_carbono_TTW(row['consumo_diesel_TEU_l']), axis=1)\n",
    "\n",
    "salida_carga['emisionesC_WTT_TEU_kgCO2e'] = salida_carga.apply(lambda row:carretera_emisiones_carbono_WTT(row['consumo_diesel_TEU_l']), axis=1)\n",
    "\n",
    "salida_carga['emisionesC_WTW_TEU_kgCO2e'] = salida_carga.apply(lambda row:carretera_emisiones_carbono_WTW(row['consumo_diesel_TEU_l']), axis=1)"
   ]
  },
  {
   "cell_type": "markdown",
   "metadata": {},
   "source": [
    "### 2. Trayecto carga-descarga"
   ]
  },
  {
   "cell_type": "markdown",
   "metadata": {},
   "source": [
    "#### 1. Trayecto peninsular"
   ]
  },
  {
   "cell_type": "code",
   "execution_count": 87,
   "metadata": {},
   "outputs": [],
   "source": [
    "# Trade Lane: Europe (North and Med) to-from Africa\n",
    "# Dry (No Reefer)\n",
    "# 2020 WTW CO2e, 70% UF = 100.2 grams of CO2 per TEU km\n",
    "# Extra 15% for route deviation\n",
    "# 1 TEU = 1 tonne\n",
    "\n",
    "def mar_peninsula_emisiones_carbono_WTW(distancia_trayecto):\n",
    "    emission_factor_WTW_gCO2TEUkm = 100.2\n",
    "    detour = distancia_trayecto * 0.15\n",
    "    teus_shipment = 1 \n",
    "    mar_WTW_gCO2e = emission_factor_WTW_gCO2TEUkm * (distancia_trayecto + detour) * teus_shipment\n",
    "    mar_WTW_kgCO2e = mar_WTW_gCO2e/1000\n",
    "    return mar_WTW_kgCO2e"
   ]
  },
  {
   "cell_type": "code",
   "execution_count": 88,
   "metadata": {},
   "outputs": [],
   "source": [
    "# 2020 TTW CO2e, 100% UF = 59.7 grams of CO2 per TEU km\n",
    "# Aplicamos 70% utilization factor\n",
    "def mar_peninsula_emisiones_carbono_TTW(distancia_trayecto):\n",
    "    emission_factor_TTW_gCO2TEUkm = 59.7\n",
    "    detour = distancia_trayecto * 0.15\n",
    "    teus_shipment = 1\n",
    "    mar_TTW_gCO2e = (emission_factor_TTW_gCO2TEUkm * (distancia_trayecto + detour) * teus_shipment) / 0.7\n",
    "    mar_TTW_kgCO2e = mar_TTW_gCO2e/1000\n",
    "    return mar_TTW_kgCO2e"
   ]
  },
  {
   "cell_type": "code",
   "execution_count": 89,
   "metadata": {},
   "outputs": [],
   "source": [
    "def mar_peninsula_emisiones_carbono_WTT(distancia_trayecto):\n",
    "    wtw = mar_peninsula_emisiones_carbono_WTW(distancia_trayecto)\n",
    "    ttw = mar_peninsula_emisiones_carbono_TTW(distancia_trayecto)\n",
    "    wtt = wtw - ttw\n",
    "    return wtt"
   ]
  },
  {
   "cell_type": "markdown",
   "metadata": {},
   "source": [
    "#### 2. Trayecto canario"
   ]
  },
  {
   "cell_type": "code",
   "execution_count": 90,
   "metadata": {},
   "outputs": [],
   "source": [
    "# Trade Lane: Fleet-Wide Average CO2 Performance\n",
    "# Dry (No Reefer)\n",
    "# 2020 WTW CO2e, 70% UF = 66.4 grams of CO2 per TEU km\n",
    "# Extra 15% for route deviation\n",
    "# 1 TEU = 1 tonne\n",
    "\n",
    "def mar_canarias_emisiones_carbono_WTW(distancia_trayecto):\n",
    "    emission_factor_WTW_gCO2TEUkm = 110.9\n",
    "    detour = distancia_trayecto * 0.15\n",
    "    teus_shipment = 1 \n",
    "    mar_WTW_gCO2e = emission_factor_WTW_gCO2TEUkm * (distancia_trayecto + detour) * teus_shipment\n",
    "    mar_WTW_kgCO2e = mar_WTW_gCO2e/1000\n",
    "    return mar_WTW_kgCO2e"
   ]
  },
  {
   "cell_type": "code",
   "execution_count": 91,
   "metadata": {},
   "outputs": [],
   "source": [
    "# 2020 TTW CO2e, 100% UF = 59.7 grams of CO2 per TEU km\n",
    "# Aplicamos 70% utilization factor\n",
    "def mar_canarias_emisiones_carbono_TTW(distancia_trayecto):\n",
    "    emission_factor_TTW_gCO2TEUkm = 66.8\n",
    "    detour = distancia_trayecto * 0.15\n",
    "    teus_shipment = 1\n",
    "    mar_TTW_gCO2e = (emission_factor_TTW_gCO2TEUkm * (distancia_trayecto + detour) * teus_shipment) / 0.7\n",
    "    mar_TTW_kgCO2e = mar_TTW_gCO2e/1000\n",
    "    return mar_TTW_kgCO2e"
   ]
  },
  {
   "cell_type": "code",
   "execution_count": 92,
   "metadata": {},
   "outputs": [],
   "source": [
    "def mar_canarias_emisiones_carbono_WTT(distancia_trayecto):\n",
    "    wtw = mar_canarias_emisiones_carbono_WTW(distancia_trayecto)\n",
    "    ttw = mar_canarias_emisiones_carbono_TTW(distancia_trayecto)\n",
    "    wtt = wtw - ttw\n",
    "    return wtt"
   ]
  },
  {
   "cell_type": "markdown",
   "metadata": {},
   "source": [
    "Aplicamos las funciones."
   ]
  },
  {
   "cell_type": "code",
   "execution_count": 93,
   "metadata": {},
   "outputs": [],
   "source": [
    "# Diferentes suposiciones dependiendo del puerto de salida\n",
    "canary_ports = ['TENERIFE', 'ARRECIFE', 'LA PALMA', 'LA ESTACA', 'PUERTO DEL ROSARIO', 'LA GOMERA', 'LAS PALMAS']\n",
    "\n",
    "carga_descarga['flag'] = carga_descarga['port_name'].isin(canary_ports) * 1"
   ]
  },
  {
   "cell_type": "code",
   "execution_count": 94,
   "metadata": {},
   "outputs": [],
   "source": [
    "carga_descarga['emisionesC_TTW_TEU_kgCO2e'] = carga_descarga.apply(lambda row:mar_peninsula_emisiones_carbono_TTW(row['distanceLP_km']) if row.flag==0\n",
    "                                                                   else mar_canarias_emisiones_carbono_TTW(row['distanceLP_km']), axis=1)\n",
    "\n",
    "carga_descarga['emisionesC_WTT_TEU_kgCO2e'] = carga_descarga.apply(lambda row:mar_peninsula_emisiones_carbono_WTT(row['distanceLP_km']) if row.flag==0\n",
    "                                                                   else mar_canarias_emisiones_carbono_WTT(row['distanceLP_km']), axis=1)\n",
    "\n",
    "carga_descarga['emisionesC_WTW_TEU_kgCO2e'] = carga_descarga.apply(lambda row:mar_peninsula_emisiones_carbono_WTW(row['distanceLP_km']) if row.flag==0\n",
    "                                                                   else mar_canarias_emisiones_carbono_WTW(row['distanceLP_km']), axis=1)"
   ]
  },
  {
   "cell_type": "markdown",
   "metadata": {},
   "source": [
    "### 3. Trayecto descarga-llegada"
   ]
  },
  {
   "cell_type": "markdown",
   "metadata": {},
   "source": [
    "#### Emisiones carbono"
   ]
  },
  {
   "cell_type": "markdown",
   "metadata": {},
   "source": [
    "Aprovechamos las funciones definidas para el Tramo salida_carga."
   ]
  },
  {
   "cell_type": "code",
   "execution_count": 95,
   "metadata": {},
   "outputs": [],
   "source": [
    "descarga_llegada['emisionesC_TTW_total_kgCO2e'] = descarga_llegada.apply(lambda row:carretera_emisiones_carbono_TTW(row['consumo_diesel_total_l']), axis=1)\n",
    "\n",
    "descarga_llegada['emisionesC_WTT_total_kgCO2e'] = descarga_llegada.apply(lambda row:carretera_emisiones_carbono_WTT(row['consumo_diesel_total_l']), axis=1)\n",
    "\n",
    "descarga_llegada['emisionesC_WTW_total_kgCO2e'] = descarga_llegada.apply(lambda row:carretera_emisiones_carbono_WTW(row['consumo_diesel_total_l']), axis=1)"
   ]
  },
  {
   "cell_type": "markdown",
   "metadata": {},
   "source": [
    "#### 4. Trayecto salida-llegada"
   ]
  },
  {
   "cell_type": "markdown",
   "metadata": {},
   "source": [
    "Aprovechamos las funciones definidas para el Tramo salida_carga."
   ]
  },
  {
   "cell_type": "code",
   "execution_count": 96,
   "metadata": {},
   "outputs": [],
   "source": [
    "salida_llegada['emisionesC_TTW_total_kgCO2e'] = salida_llegada.apply(lambda row:carretera_emisiones_carbono_TTW(row['consumo_diesel_total_l']), axis=1)\n",
    "\n",
    "salida_llegada['emisionesC_WTT_total_kgCO2e'] = salida_llegada.apply(lambda row:carretera_emisiones_carbono_WTT(row['consumo_diesel_total_l']), axis=1)\n",
    "\n",
    "salida_llegada['emisionesC_WTW_total_kgCO2e'] = salida_llegada.apply(lambda row:carretera_emisiones_carbono_WTW(row['consumo_diesel_total_l']), axis=1)"
   ]
  },
  {
   "cell_type": "markdown",
   "metadata": {},
   "source": [
    "## Subetapa 2.4: asignación de este trayecto a una porción de cada uno de los cuatro resultados de la Subetapa 2.3"
   ]
  },
  {
   "cell_type": "markdown",
   "metadata": {},
   "source": [
    "- Ahora se debe asignar una parte de la energía y de las emisiones calculadas,\n",
    "correspondiente a su participación relativa en la actividad de transporte ralizada\n",
    "dentro del VOS.\n",
    "- Ver (AENOR2013) pg. 18.\n",
    "    - Primero calculamos **S(trayecto)**, el factor utilizado para calcularla proporción\n",
    "    de la energía y de las emisiones del VOS que se asignan a un servicio de transporte\n",
    "    para el trayecto y para el VOS asociado.\n",
    "    - S(trayecto) = T(trayecto) / T(VOS)\n",
    "        - T(trayecto): actividade de transporte del servicio de transport para el trayecto\n",
    "        - T(VOS): actividad de transporte del VOS relativo al trayecto\n",
    "- Datos cálculo: \n",
    "    - Peso total del contenedor es 12.45 toneladas (Table 9, (Schmied2012)).\n",
    "    - Peso de la mercancía transportada 0.125 toneladas. Share of diesel consumption per tonne cargo."
   ]
  },
  {
   "cell_type": "markdown",
   "metadata": {},
   "source": [
    "### 1. Trayecto salida-carga"
   ]
  },
  {
   "cell_type": "markdown",
   "metadata": {},
   "source": [
    "#### Factor proporción libros"
   ]
  },
  {
   "cell_type": "code",
   "execution_count": 98,
   "metadata": {},
   "outputs": [],
   "source": [
    "# Añadir peso de los libros\n",
    "salida_carga = pd.merge(salida_carga, libros[['libro_titulo', 'peso_t_500libros']], how='cross')"
   ]
  },
  {
   "cell_type": "code",
   "execution_count": 99,
   "metadata": {},
   "outputs": [],
   "source": [
    "def carretera_factor_proporcion_carga(peso_mercancia):\n",
    "    peso_total = 12.45\n",
    "    factor = peso_mercancia / peso_total\n",
    "    return factor"
   ]
  },
  {
   "cell_type": "markdown",
   "metadata": {},
   "source": [
    "#### Energía total"
   ]
  },
  {
   "cell_type": "code",
   "execution_count": 100,
   "metadata": {},
   "outputs": [],
   "source": [
    "def carretera_consumo_energetico_proporcion_TTW(peso_mercancia, consumo_diesel):\n",
    "    factor = carretera_factor_proporcion_carga(peso_mercancia)\n",
    "    total = carretera_consumo_energetico_TTW(consumo_diesel)\n",
    "    proporcion = factor * total\n",
    "    return proporcion"
   ]
  },
  {
   "cell_type": "code",
   "execution_count": 101,
   "metadata": {},
   "outputs": [],
   "source": [
    "def carretera_consumo_energetico_proporcion_WTW(peso_mercancia, consumo_diesel):\n",
    "    factor = carretera_factor_proporcion_carga(peso_mercancia)\n",
    "    total = carretera_consumo_energetico_WTW(consumo_diesel)\n",
    "    proporcion = factor * total\n",
    "    return proporcion"
   ]
  },
  {
   "cell_type": "code",
   "execution_count": 102,
   "metadata": {},
   "outputs": [],
   "source": [
    "def carretera_consumo_energetico_proporcion_WTT(peso_mercancia, consumo_diesel):\n",
    "    factor = carretera_factor_proporcion_carga(peso_mercancia)\n",
    "    total = carretera_consumo_energetico_WTT(consumo_diesel)\n",
    "    proporcion = factor * total\n",
    "    return proporcion"
   ]
  },
  {
   "cell_type": "markdown",
   "metadata": {},
   "source": [
    "#### Emisiones carbono"
   ]
  },
  {
   "cell_type": "code",
   "execution_count": 103,
   "metadata": {},
   "outputs": [],
   "source": [
    "def carretera_emisiones_carbono_proporcion_TTW(peso_mercancia, consumo_diesel):\n",
    "    factor = carretera_factor_proporcion_carga(peso_mercancia)\n",
    "    total = carretera_emisiones_carbono_TTW(consumo_diesel)\n",
    "    proporcion = factor * total\n",
    "    return proporcion"
   ]
  },
  {
   "cell_type": "code",
   "execution_count": 104,
   "metadata": {},
   "outputs": [],
   "source": [
    "def carretera_emisiones_carbono_proporcion_WTW(peso_mercancia, consumo_diesel):\n",
    "    factor = carretera_factor_proporcion_carga(peso_mercancia)\n",
    "    total = carretera_emisiones_carbono_WTW(consumo_diesel)\n",
    "    proporcion = factor * total\n",
    "    return proporcion"
   ]
  },
  {
   "cell_type": "code",
   "execution_count": 105,
   "metadata": {},
   "outputs": [],
   "source": [
    "def carretera_emisiones_carbono_proporcion_WTT(peso_mercancia, consumo_diesel):\n",
    "    factor = carretera_factor_proporcion_carga(peso_mercancia)\n",
    "    total = carretera_emisiones_carbono_WTT(consumo_diesel)\n",
    "    proporcion = factor * total\n",
    "    return proporcion"
   ]
  },
  {
   "cell_type": "code",
   "execution_count": 106,
   "metadata": {},
   "outputs": [],
   "source": [
    "# El contendor pesa en total 12.45 tonnes\n",
    "salida_carga['emisionesC_TTW_libros_kgCO2e'] = salida_carga.apply(lambda row:carretera_emisiones_carbono_proporcion_TTW(peso_mercancia=row['peso_t_500libros'], consumo_diesel=row['consumo_diesel_TEU_l']), axis=1)\n",
    "\n",
    "salida_carga['emisionesC_WTT_libros_kgCO2e'] = salida_carga.apply(lambda row:carretera_emisiones_carbono_proporcion_WTT(peso_mercancia=row['peso_t_500libros'], consumo_diesel=row['consumo_diesel_TEU_l']), axis=1)\n",
    "\n",
    "salida_carga['emisionesC_WTW_libros_kgCO2e'] = salida_carga.apply(lambda row:carretera_emisiones_carbono_proporcion_WTW(peso_mercancia=row['peso_t_500libros'], consumo_diesel=row['consumo_diesel_TEU_l']), axis=1)"
   ]
  },
  {
   "cell_type": "markdown",
   "metadata": {},
   "source": [
    "### 2. Trayecto carga-descarga"
   ]
  },
  {
   "cell_type": "markdown",
   "metadata": {},
   "source": [
    "#### Factor proporción libros"
   ]
  },
  {
   "cell_type": "code",
   "execution_count": 107,
   "metadata": {},
   "outputs": [],
   "source": [
    "# Añadir peso de los libros\n",
    "carga_descarga = pd.merge(carga_descarga, libros[['libro_titulo', 'peso_t_500libros']], how='cross')"
   ]
  },
  {
   "cell_type": "code",
   "execution_count": 108,
   "metadata": {},
   "outputs": [],
   "source": [
    "# La metodología de Clean Cargo asume que 1 TEU = 10 toneladas\n",
    "def mar_factor_proporcion_carga(peso_mercancia):\n",
    "    peso_total = 10\n",
    "    factor = peso_mercancia / peso_total\n",
    "    return factor"
   ]
  },
  {
   "cell_type": "markdown",
   "metadata": {},
   "source": [
    "#### Emisiones carbono"
   ]
  },
  {
   "cell_type": "markdown",
   "metadata": {},
   "source": [
    "##### 1. Trayecto peninsular"
   ]
  },
  {
   "cell_type": "code",
   "execution_count": 109,
   "metadata": {},
   "outputs": [],
   "source": [
    "def mar_peninsula_emisiones_carbono_proporcion_TTW(peso_mercancia, distancia_trayecto):\n",
    "    factor = mar_factor_proporcion_carga(peso_mercancia)\n",
    "    total = mar_peninsula_emisiones_carbono_TTW(distancia_trayecto)\n",
    "    proporcion = factor * total\n",
    "    return proporcion"
   ]
  },
  {
   "cell_type": "code",
   "execution_count": 110,
   "metadata": {},
   "outputs": [],
   "source": [
    "def mar_peninsula_emisiones_carbono_proporcion_WTW(peso_mercancia, distancia_trayecto):\n",
    "    factor = mar_factor_proporcion_carga(peso_mercancia)\n",
    "    total = mar_peninsula_emisiones_carbono_WTW(distancia_trayecto)\n",
    "    proporcion = factor * total\n",
    "    return proporcion"
   ]
  },
  {
   "cell_type": "code",
   "execution_count": 111,
   "metadata": {},
   "outputs": [],
   "source": [
    "def mar_peninsula_emisiones_carbono_proporcion_WTT(peso_mercancia, distancia_trayecto):\n",
    "    factor = mar_factor_proporcion_carga(peso_mercancia)\n",
    "    total = mar_peninsula_emisiones_carbono_WTT(distancia_trayecto)\n",
    "    proporcion = factor * total\n",
    "    return proporcion"
   ]
  },
  {
   "cell_type": "markdown",
   "metadata": {},
   "source": [
    "##### 2. Trayecto canario"
   ]
  },
  {
   "cell_type": "code",
   "execution_count": 112,
   "metadata": {},
   "outputs": [],
   "source": [
    "def mar_canarias_emisiones_carbono_proporcion_TTW(peso_mercancia, distancia_trayecto):\n",
    "    factor = mar_factor_proporcion_carga(peso_mercancia)\n",
    "    total = mar_canarias_emisiones_carbono_TTW(distancia_trayecto)\n",
    "    proporcion = factor * total\n",
    "    return proporcion"
   ]
  },
  {
   "cell_type": "code",
   "execution_count": 113,
   "metadata": {},
   "outputs": [],
   "source": [
    "def mar_canarias_emisiones_carbono_proporcion_WTW(peso_mercancia, distancia_trayecto):\n",
    "    factor = mar_factor_proporcion_carga(peso_mercancia)\n",
    "    total = mar_canarias_emisiones_carbono_WTW(distancia_trayecto)\n",
    "    proporcion = factor * total\n",
    "    return proporcion"
   ]
  },
  {
   "cell_type": "code",
   "execution_count": 114,
   "metadata": {},
   "outputs": [],
   "source": [
    "def mar_canarias_emisiones_carbono_proporcion_WTT(peso_mercancia, distancia_trayecto):\n",
    "    factor = mar_factor_proporcion_carga(peso_mercancia)\n",
    "    total = mar_canarias_emisiones_carbono_WTT(distancia_trayecto)\n",
    "    proporcion = factor * total\n",
    "    return proporcion"
   ]
  },
  {
   "cell_type": "code",
   "execution_count": 115,
   "metadata": {},
   "outputs": [],
   "source": [
    "carga_descarga['emisionesC_TTW_libros_kgCO2e'] = carga_descarga.apply(lambda row:mar_peninsula_emisiones_carbono_proporcion_TTW(peso_mercancia=row['peso_t_500libros'], distancia_trayecto=row['distanceLP_km']) if row.flag==0\n",
    "                                                                   else mar_canarias_emisiones_carbono_proporcion_TTW(peso_mercancia=row['peso_t_500libros'], distancia_trayecto=row['distanceLP_km']), axis=1)\n",
    "\n",
    "carga_descarga['emisionesC_WTT_libros_kgCO2e'] = carga_descarga.apply(lambda row:mar_peninsula_emisiones_carbono_proporcion_WTT(peso_mercancia=row['peso_t_500libros'], distancia_trayecto=row['distanceLP_km']) if row.flag==0\n",
    "                                                                   else mar_canarias_emisiones_carbono_proporcion_WTT(peso_mercancia=row['peso_t_500libros'], distancia_trayecto=row['distanceLP_km']), axis=1)\n",
    "\n",
    "carga_descarga['emisionesC_WTW_libros_kgCO2e'] = carga_descarga.apply(lambda row:mar_peninsula_emisiones_carbono_proporcion_WTW(peso_mercancia=row['peso_t_500libros'], distancia_trayecto=row['distanceLP_km']) if row.flag==0\n",
    "                                                                   else mar_canarias_emisiones_carbono_proporcion_WTW(peso_mercancia=row['peso_t_500libros'], distancia_trayecto=row['distanceLP_km']), axis=1)"
   ]
  },
  {
   "cell_type": "markdown",
   "metadata": {},
   "source": [
    "### 3. Trayecto descarga-llegada"
   ]
  },
  {
   "cell_type": "code",
   "execution_count": 116,
   "metadata": {},
   "outputs": [],
   "source": [
    "descarga_llegada = pd.merge(descarga_llegada, libros[['libro_titulo', 'peso_t_500libros']], how='cross')"
   ]
  },
  {
   "cell_type": "markdown",
   "metadata": {},
   "source": [
    "Aprovechamos las funciones definidas para el Tramo salida_carga."
   ]
  },
  {
   "cell_type": "code",
   "execution_count": 117,
   "metadata": {},
   "outputs": [
    {
     "ename": "TypeError",
     "evalue": "carretera_emisiones_carbono_proporcion_TTW() got an unexpected keyword argument 'peso_total'",
     "output_type": "error",
     "traceback": [
      "\u001b[0;31m---------------------------------------------------------------------------\u001b[0m",
      "\u001b[0;31mTypeError\u001b[0m                                 Traceback (most recent call last)",
      "Cell \u001b[0;32mIn[117], line 2\u001b[0m\n\u001b[1;32m      1\u001b[0m \u001b[39m# Asumimos que el camión lleva una carga de 2.1 toneladas.\u001b[39;00m\n\u001b[0;32m----> 2\u001b[0m descarga_llegada[\u001b[39m'\u001b[39m\u001b[39memisionesC_TTW_libros_kgCO2e\u001b[39m\u001b[39m'\u001b[39m] \u001b[39m=\u001b[39m descarga_llegada\u001b[39m.\u001b[39;49mapply(\u001b[39mlambda\u001b[39;49;00m row:carretera_emisiones_carbono_proporcion_TTW(peso_total\u001b[39m=\u001b[39;49m\u001b[39m2.1\u001b[39;49m, peso_mercancia\u001b[39m=\u001b[39;49mrow[\u001b[39m'\u001b[39;49m\u001b[39mpeso_t_500libros\u001b[39;49m\u001b[39m'\u001b[39;49m], consumo_diesel\u001b[39m=\u001b[39;49mrow[\u001b[39m'\u001b[39;49m\u001b[39mconsumo_diesel_total_l\u001b[39;49m\u001b[39m'\u001b[39;49m]), axis\u001b[39m=\u001b[39;49m\u001b[39m1\u001b[39;49m)\n\u001b[1;32m      4\u001b[0m descarga_llegada[\u001b[39m'\u001b[39m\u001b[39memisionesC_WTT_libros_kgCO2e\u001b[39m\u001b[39m'\u001b[39m] \u001b[39m=\u001b[39m descarga_llegada\u001b[39m.\u001b[39mapply(\u001b[39mlambda\u001b[39;00m row:carretera_emisiones_carbono_proporcion_WTT(peso_total\u001b[39m=\u001b[39m\u001b[39m2.1\u001b[39m, peso_mercancia\u001b[39m=\u001b[39mrow[\u001b[39m'\u001b[39m\u001b[39mpeso_t_500libros\u001b[39m\u001b[39m'\u001b[39m], consumo_diesel\u001b[39m=\u001b[39mrow[\u001b[39m'\u001b[39m\u001b[39mconsumo_diesel_total_l\u001b[39m\u001b[39m'\u001b[39m]), axis\u001b[39m=\u001b[39m\u001b[39m1\u001b[39m)\n\u001b[1;32m      6\u001b[0m descarga_llegada[\u001b[39m'\u001b[39m\u001b[39memisionesC_WTW_libros_kgCO2e\u001b[39m\u001b[39m'\u001b[39m] \u001b[39m=\u001b[39m descarga_llegada\u001b[39m.\u001b[39mapply(\u001b[39mlambda\u001b[39;00m row:carretera_emisiones_carbono_proporcion_WTW(peso_total\u001b[39m=\u001b[39m\u001b[39m2.1\u001b[39m, peso_mercancia\u001b[39m=\u001b[39mrow[\u001b[39m'\u001b[39m\u001b[39mpeso_t_500libros\u001b[39m\u001b[39m'\u001b[39m], consumo_diesel\u001b[39m=\u001b[39mrow[\u001b[39m'\u001b[39m\u001b[39mconsumo_diesel_total_l\u001b[39m\u001b[39m'\u001b[39m]), axis\u001b[39m=\u001b[39m\u001b[39m1\u001b[39m)\n",
      "File \u001b[0;32m~/.local/share/virtualenvs/Huella-carbono-transporte-editorial-rRnBe7lo/lib/python3.10/site-packages/pandas/core/frame.py:9423\u001b[0m, in \u001b[0;36mDataFrame.apply\u001b[0;34m(self, func, axis, raw, result_type, args, **kwargs)\u001b[0m\n\u001b[1;32m   9412\u001b[0m \u001b[39mfrom\u001b[39;00m \u001b[39mpandas\u001b[39;00m\u001b[39m.\u001b[39;00m\u001b[39mcore\u001b[39;00m\u001b[39m.\u001b[39;00m\u001b[39mapply\u001b[39;00m \u001b[39mimport\u001b[39;00m frame_apply\n\u001b[1;32m   9414\u001b[0m op \u001b[39m=\u001b[39m frame_apply(\n\u001b[1;32m   9415\u001b[0m     \u001b[39mself\u001b[39m,\n\u001b[1;32m   9416\u001b[0m     func\u001b[39m=\u001b[39mfunc,\n\u001b[0;32m   (...)\u001b[0m\n\u001b[1;32m   9421\u001b[0m     kwargs\u001b[39m=\u001b[39mkwargs,\n\u001b[1;32m   9422\u001b[0m )\n\u001b[0;32m-> 9423\u001b[0m \u001b[39mreturn\u001b[39;00m op\u001b[39m.\u001b[39;49mapply()\u001b[39m.\u001b[39m__finalize__(\u001b[39mself\u001b[39m, method\u001b[39m=\u001b[39m\u001b[39m\"\u001b[39m\u001b[39mapply\u001b[39m\u001b[39m\"\u001b[39m)\n",
      "File \u001b[0;32m~/.local/share/virtualenvs/Huella-carbono-transporte-editorial-rRnBe7lo/lib/python3.10/site-packages/pandas/core/apply.py:678\u001b[0m, in \u001b[0;36mFrameApply.apply\u001b[0;34m(self)\u001b[0m\n\u001b[1;32m    675\u001b[0m \u001b[39melif\u001b[39;00m \u001b[39mself\u001b[39m\u001b[39m.\u001b[39mraw:\n\u001b[1;32m    676\u001b[0m     \u001b[39mreturn\u001b[39;00m \u001b[39mself\u001b[39m\u001b[39m.\u001b[39mapply_raw()\n\u001b[0;32m--> 678\u001b[0m \u001b[39mreturn\u001b[39;00m \u001b[39mself\u001b[39;49m\u001b[39m.\u001b[39;49mapply_standard()\n",
      "File \u001b[0;32m~/.local/share/virtualenvs/Huella-carbono-transporte-editorial-rRnBe7lo/lib/python3.10/site-packages/pandas/core/apply.py:798\u001b[0m, in \u001b[0;36mFrameApply.apply_standard\u001b[0;34m(self)\u001b[0m\n\u001b[1;32m    797\u001b[0m \u001b[39mdef\u001b[39;00m \u001b[39mapply_standard\u001b[39m(\u001b[39mself\u001b[39m):\n\u001b[0;32m--> 798\u001b[0m     results, res_index \u001b[39m=\u001b[39m \u001b[39mself\u001b[39;49m\u001b[39m.\u001b[39;49mapply_series_generator()\n\u001b[1;32m    800\u001b[0m     \u001b[39m# wrap results\u001b[39;00m\n\u001b[1;32m    801\u001b[0m     \u001b[39mreturn\u001b[39;00m \u001b[39mself\u001b[39m\u001b[39m.\u001b[39mwrap_results(results, res_index)\n",
      "File \u001b[0;32m~/.local/share/virtualenvs/Huella-carbono-transporte-editorial-rRnBe7lo/lib/python3.10/site-packages/pandas/core/apply.py:814\u001b[0m, in \u001b[0;36mFrameApply.apply_series_generator\u001b[0;34m(self)\u001b[0m\n\u001b[1;32m    811\u001b[0m \u001b[39mwith\u001b[39;00m option_context(\u001b[39m\"\u001b[39m\u001b[39mmode.chained_assignment\u001b[39m\u001b[39m\"\u001b[39m, \u001b[39mNone\u001b[39;00m):\n\u001b[1;32m    812\u001b[0m     \u001b[39mfor\u001b[39;00m i, v \u001b[39min\u001b[39;00m \u001b[39menumerate\u001b[39m(series_gen):\n\u001b[1;32m    813\u001b[0m         \u001b[39m# ignore SettingWithCopy here in case the user mutates\u001b[39;00m\n\u001b[0;32m--> 814\u001b[0m         results[i] \u001b[39m=\u001b[39m \u001b[39mself\u001b[39;49m\u001b[39m.\u001b[39;49mf(v)\n\u001b[1;32m    815\u001b[0m         \u001b[39mif\u001b[39;00m \u001b[39misinstance\u001b[39m(results[i], ABCSeries):\n\u001b[1;32m    816\u001b[0m             \u001b[39m# If we have a view on v, we need to make a copy because\u001b[39;00m\n\u001b[1;32m    817\u001b[0m             \u001b[39m#  series_generator will swap out the underlying data\u001b[39;00m\n\u001b[1;32m    818\u001b[0m             results[i] \u001b[39m=\u001b[39m results[i]\u001b[39m.\u001b[39mcopy(deep\u001b[39m=\u001b[39m\u001b[39mFalse\u001b[39;00m)\n",
      "Cell \u001b[0;32mIn[117], line 2\u001b[0m, in \u001b[0;36m<lambda>\u001b[0;34m(row)\u001b[0m\n\u001b[1;32m      1\u001b[0m \u001b[39m# Asumimos que el camión lleva una carga de 2.1 toneladas.\u001b[39;00m\n\u001b[0;32m----> 2\u001b[0m descarga_llegada[\u001b[39m'\u001b[39m\u001b[39memisionesC_TTW_libros_kgCO2e\u001b[39m\u001b[39m'\u001b[39m] \u001b[39m=\u001b[39m descarga_llegada\u001b[39m.\u001b[39mapply(\u001b[39mlambda\u001b[39;00m row:carretera_emisiones_carbono_proporcion_TTW(peso_total\u001b[39m=\u001b[39;49m\u001b[39m2.1\u001b[39;49m, peso_mercancia\u001b[39m=\u001b[39;49mrow[\u001b[39m'\u001b[39;49m\u001b[39mpeso_t_500libros\u001b[39;49m\u001b[39m'\u001b[39;49m], consumo_diesel\u001b[39m=\u001b[39;49mrow[\u001b[39m'\u001b[39;49m\u001b[39mconsumo_diesel_total_l\u001b[39;49m\u001b[39m'\u001b[39;49m]), axis\u001b[39m=\u001b[39m\u001b[39m1\u001b[39m)\n\u001b[1;32m      4\u001b[0m descarga_llegada[\u001b[39m'\u001b[39m\u001b[39memisionesC_WTT_libros_kgCO2e\u001b[39m\u001b[39m'\u001b[39m] \u001b[39m=\u001b[39m descarga_llegada\u001b[39m.\u001b[39mapply(\u001b[39mlambda\u001b[39;00m row:carretera_emisiones_carbono_proporcion_WTT(peso_total\u001b[39m=\u001b[39m\u001b[39m2.1\u001b[39m, peso_mercancia\u001b[39m=\u001b[39mrow[\u001b[39m'\u001b[39m\u001b[39mpeso_t_500libros\u001b[39m\u001b[39m'\u001b[39m], consumo_diesel\u001b[39m=\u001b[39mrow[\u001b[39m'\u001b[39m\u001b[39mconsumo_diesel_total_l\u001b[39m\u001b[39m'\u001b[39m]), axis\u001b[39m=\u001b[39m\u001b[39m1\u001b[39m)\n\u001b[1;32m      6\u001b[0m descarga_llegada[\u001b[39m'\u001b[39m\u001b[39memisionesC_WTW_libros_kgCO2e\u001b[39m\u001b[39m'\u001b[39m] \u001b[39m=\u001b[39m descarga_llegada\u001b[39m.\u001b[39mapply(\u001b[39mlambda\u001b[39;00m row:carretera_emisiones_carbono_proporcion_WTW(peso_total\u001b[39m=\u001b[39m\u001b[39m2.1\u001b[39m, peso_mercancia\u001b[39m=\u001b[39mrow[\u001b[39m'\u001b[39m\u001b[39mpeso_t_500libros\u001b[39m\u001b[39m'\u001b[39m], consumo_diesel\u001b[39m=\u001b[39mrow[\u001b[39m'\u001b[39m\u001b[39mconsumo_diesel_total_l\u001b[39m\u001b[39m'\u001b[39m]), axis\u001b[39m=\u001b[39m\u001b[39m1\u001b[39m)\n",
      "\u001b[0;31mTypeError\u001b[0m: carretera_emisiones_carbono_proporcion_TTW() got an unexpected keyword argument 'peso_total'"
     ]
    }
   ],
   "source": [
    "# Asumimos que el camión lleva una carga de 2.1 toneladas.\n",
    "descarga_llegada['emisionesC_TTW_libros_kgCO2e'] = descarga_llegada.apply(lambda row:carretera_emisiones_carbono_proporcion_TTW(peso_total=2.1, peso_mercancia=row['peso_t_500libros'], consumo_diesel=row['consumo_diesel_total_l']), axis=1)\n",
    "\n",
    "descarga_llegada['emisionesC_WTT_libros_kgCO2e'] = descarga_llegada.apply(lambda row:carretera_emisiones_carbono_proporcion_WTT(peso_total=2.1, peso_mercancia=row['peso_t_500libros'], consumo_diesel=row['consumo_diesel_total_l']), axis=1)\n",
    "\n",
    "descarga_llegada['emisionesC_WTW_libros_kgCO2e'] = descarga_llegada.apply(lambda row:carretera_emisiones_carbono_proporcion_WTW(peso_total=2.1, peso_mercancia=row['peso_t_500libros'], consumo_diesel=row['consumo_diesel_total_l']), axis=1)"
   ]
  },
  {
   "cell_type": "markdown",
   "metadata": {},
   "source": [
    "### 4. Trayecto salida-llegada"
   ]
  },
  {
   "cell_type": "code",
   "execution_count": 118,
   "metadata": {},
   "outputs": [],
   "source": [
    "# Añadir peso de los libros\n",
    "salida_llegada = pd.merge(salida_llegada, libros[['libro_titulo', 'peso_t_500libros']], how='cross')"
   ]
  },
  {
   "cell_type": "code",
   "execution_count": 119,
   "metadata": {},
   "outputs": [
    {
     "data": {
      "text/html": [
       "<div>\n",
       "<style scoped>\n",
       "    .dataframe tbody tr th:only-of-type {\n",
       "        vertical-align: middle;\n",
       "    }\n",
       "\n",
       "    .dataframe tbody tr th {\n",
       "        vertical-align: top;\n",
       "    }\n",
       "\n",
       "    .dataframe thead th {\n",
       "        text-align: right;\n",
       "    }\n",
       "</style>\n",
       "<table border=\"1\" class=\"dataframe\">\n",
       "  <thead>\n",
       "    <tr style=\"text-align: right;\">\n",
       "      <th></th>\n",
       "      <th>name</th>\n",
       "      <th>population</th>\n",
       "      <th>lat</th>\n",
       "      <th>lon</th>\n",
       "      <th>latlon_a</th>\n",
       "      <th>salida_llegada_distancia_km</th>\n",
       "      <th>consumo_diesel_total_l</th>\n",
       "      <th>emisionesC_TTW_total_kgCO2e</th>\n",
       "      <th>emisionesC_WTT_total_kgCO2e</th>\n",
       "      <th>emisionesC_WTW_total_kgCO2e</th>\n",
       "      <th>libro_titulo</th>\n",
       "      <th>peso_t_500libros</th>\n",
       "    </tr>\n",
       "  </thead>\n",
       "  <tbody>\n",
       "    <tr>\n",
       "      <th>0</th>\n",
       "      <td>LAS PALMAS DE GRAN CANARIA</td>\n",
       "      <td>381847</td>\n",
       "      <td>28.09973</td>\n",
       "      <td>-15.41343</td>\n",
       "      <td>28.09973,-15.41343</td>\n",
       "      <td>0.512001</td>\n",
       "      <td>0.074512</td>\n",
       "      <td>0.198946</td>\n",
       "      <td>0.042472</td>\n",
       "      <td>0.241417</td>\n",
       "      <td>Niebla de sueño</td>\n",
       "      <td>0.125</td>\n",
       "    </tr>\n",
       "    <tr>\n",
       "      <th>1</th>\n",
       "      <td>LAS PALMAS DE GRAN CANARIA</td>\n",
       "      <td>381847</td>\n",
       "      <td>28.09973</td>\n",
       "      <td>-15.41343</td>\n",
       "      <td>28.09973,-15.41343</td>\n",
       "      <td>0.512001</td>\n",
       "      <td>0.074512</td>\n",
       "      <td>0.198946</td>\n",
       "      <td>0.042472</td>\n",
       "      <td>0.241417</td>\n",
       "      <td>La isla de los canarios. Volumen 6</td>\n",
       "      <td>0.200</td>\n",
       "    </tr>\n",
       "    <tr>\n",
       "      <th>2</th>\n",
       "      <td>LAS PALMAS DE GRAN CANARIA</td>\n",
       "      <td>381847</td>\n",
       "      <td>28.09973</td>\n",
       "      <td>-15.41343</td>\n",
       "      <td>28.09973,-15.41343</td>\n",
       "      <td>0.512001</td>\n",
       "      <td>0.074512</td>\n",
       "      <td>0.198946</td>\n",
       "      <td>0.042472</td>\n",
       "      <td>0.241417</td>\n",
       "      <td>El mundo del libro en Canarias</td>\n",
       "      <td>0.390</td>\n",
       "    </tr>\n",
       "    <tr>\n",
       "      <th>3</th>\n",
       "      <td>LAS PALMAS DE GRAN CANARIA</td>\n",
       "      <td>381847</td>\n",
       "      <td>28.09973</td>\n",
       "      <td>-15.41343</td>\n",
       "      <td>28.09973,-15.41343</td>\n",
       "      <td>0.512001</td>\n",
       "      <td>0.074512</td>\n",
       "      <td>0.198946</td>\n",
       "      <td>0.042472</td>\n",
       "      <td>0.241417</td>\n",
       "      <td>Historia del Cabildo insular de Gran Canaria</td>\n",
       "      <td>0.620</td>\n",
       "    </tr>\n",
       "    <tr>\n",
       "      <th>4</th>\n",
       "      <td>LAS PALMAS DE GRAN CANARIA</td>\n",
       "      <td>381847</td>\n",
       "      <td>28.09973</td>\n",
       "      <td>-15.41343</td>\n",
       "      <td>28.09973,-15.41343</td>\n",
       "      <td>0.512001</td>\n",
       "      <td>0.074512</td>\n",
       "      <td>0.198946</td>\n",
       "      <td>0.042472</td>\n",
       "      <td>0.241417</td>\n",
       "      <td>Flora de Gran Canaria 1</td>\n",
       "      <td>1.140</td>\n",
       "    </tr>\n",
       "  </tbody>\n",
       "</table>\n",
       "</div>"
      ],
      "text/plain": [
       "                         name  population       lat       lon  \\\n",
       "0  LAS PALMAS DE GRAN CANARIA      381847  28.09973 -15.41343   \n",
       "1  LAS PALMAS DE GRAN CANARIA      381847  28.09973 -15.41343   \n",
       "2  LAS PALMAS DE GRAN CANARIA      381847  28.09973 -15.41343   \n",
       "3  LAS PALMAS DE GRAN CANARIA      381847  28.09973 -15.41343   \n",
       "4  LAS PALMAS DE GRAN CANARIA      381847  28.09973 -15.41343   \n",
       "\n",
       "             latlon_a  salida_llegada_distancia_km  consumo_diesel_total_l  \\\n",
       "0  28.09973,-15.41343                     0.512001                0.074512   \n",
       "1  28.09973,-15.41343                     0.512001                0.074512   \n",
       "2  28.09973,-15.41343                     0.512001                0.074512   \n",
       "3  28.09973,-15.41343                     0.512001                0.074512   \n",
       "4  28.09973,-15.41343                     0.512001                0.074512   \n",
       "\n",
       "   emisionesC_TTW_total_kgCO2e  emisionesC_WTT_total_kgCO2e  \\\n",
       "0                     0.198946                     0.042472   \n",
       "1                     0.198946                     0.042472   \n",
       "2                     0.198946                     0.042472   \n",
       "3                     0.198946                     0.042472   \n",
       "4                     0.198946                     0.042472   \n",
       "\n",
       "   emisionesC_WTW_total_kgCO2e                                  libro_titulo  \\\n",
       "0                     0.241417                               Niebla de sueño   \n",
       "1                     0.241417            La isla de los canarios. Volumen 6   \n",
       "2                     0.241417                El mundo del libro en Canarias   \n",
       "3                     0.241417  Historia del Cabildo insular de Gran Canaria   \n",
       "4                     0.241417                       Flora de Gran Canaria 1   \n",
       "\n",
       "   peso_t_500libros  \n",
       "0             0.125  \n",
       "1             0.200  \n",
       "2             0.390  \n",
       "3             0.620  \n",
       "4             1.140  "
      ]
     },
     "execution_count": 119,
     "metadata": {},
     "output_type": "execute_result"
    }
   ],
   "source": [
    "salida_llegada"
   ]
  },
  {
   "cell_type": "markdown",
   "metadata": {},
   "source": [
    "# Etapa 3: suma de los resultados de cada trayecto"
   ]
  },
  {
   "cell_type": "code",
   "execution_count": null,
   "metadata": {},
   "outputs": [],
   "source": []
  }
 ],
 "metadata": {
  "kernelspec": {
   "display_name": "Huella-carbono-transporte-editorial-rRnBe7lo",
   "language": "python",
   "name": "python3"
  },
  "language_info": {
   "codemirror_mode": {
    "name": "ipython",
    "version": 3
   },
   "file_extension": ".py",
   "mimetype": "text/x-python",
   "name": "python",
   "nbconvert_exporter": "python",
   "pygments_lexer": "ipython3",
   "version": "3.10.6"
  },
  "orig_nbformat": 4
 },
 "nbformat": 4,
 "nbformat_minor": 2
}
