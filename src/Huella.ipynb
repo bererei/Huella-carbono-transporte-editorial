{
 "cells": [
  {
   "cell_type": "markdown",
   "metadata": {},
   "source": [
    "# Cálculo huella carbono"
   ]
  },
  {
   "cell_type": "code",
   "execution_count": 63,
   "metadata": {},
   "outputs": [],
   "source": [
    "import pandas as pd\n",
    "from unidecode import unidecode"
   ]
  },
  {
   "cell_type": "markdown",
   "metadata": {},
   "source": [
    "## Peso y volumen de los libros"
   ]
  },
  {
   "cell_type": "markdown",
   "metadata": {},
   "source": [
    "El peso de las 500 unidades de libros incluye el peso de un europalet de 25 kg."
   ]
  },
  {
   "cell_type": "code",
   "execution_count": 64,
   "metadata": {},
   "outputs": [
    {
     "data": {
      "text/html": [
       "<div>\n",
       "<style scoped>\n",
       "    .dataframe tbody tr th:only-of-type {\n",
       "        vertical-align: middle;\n",
       "    }\n",
       "\n",
       "    .dataframe tbody tr th {\n",
       "        vertical-align: top;\n",
       "    }\n",
       "\n",
       "    .dataframe thead th {\n",
       "        text-align: right;\n",
       "    }\n",
       "</style>\n",
       "<table border=\"1\" class=\"dataframe\">\n",
       "  <thead>\n",
       "    <tr style=\"text-align: right;\">\n",
       "      <th></th>\n",
       "      <th>libro_titulo</th>\n",
       "      <th>libro_isbn</th>\n",
       "      <th>ancho_cm</th>\n",
       "      <th>alto_cm</th>\n",
       "      <th>grosor_cm</th>\n",
       "      <th>paginas</th>\n",
       "      <th>vol_cm3_1libro</th>\n",
       "      <th>vol_m3_500libros</th>\n",
       "      <th>peso_g_1libro</th>\n",
       "      <th>peso_sineuropalet_t_500libros</th>\n",
       "      <th>peso_t_500libros</th>\n",
       "    </tr>\n",
       "  </thead>\n",
       "  <tbody>\n",
       "    <tr>\n",
       "      <th>0</th>\n",
       "      <td>Niebla de sueño</td>\n",
       "      <td>978-84-1353-114-4</td>\n",
       "      <td>13</td>\n",
       "      <td>19</td>\n",
       "      <td>1.2</td>\n",
       "      <td>162</td>\n",
       "      <td>296.4</td>\n",
       "      <td>0.14820</td>\n",
       "      <td>250</td>\n",
       "      <td>0.125</td>\n",
       "      <td>0.150</td>\n",
       "    </tr>\n",
       "    <tr>\n",
       "      <th>1</th>\n",
       "      <td>La isla de los canarios. Volumen 6</td>\n",
       "      <td>978-84-1353-115-1</td>\n",
       "      <td>21</td>\n",
       "      <td>23</td>\n",
       "      <td>0.8</td>\n",
       "      <td>92</td>\n",
       "      <td>386.4</td>\n",
       "      <td>0.19320</td>\n",
       "      <td>400</td>\n",
       "      <td>0.200</td>\n",
       "      <td>0.225</td>\n",
       "    </tr>\n",
       "    <tr>\n",
       "      <th>2</th>\n",
       "      <td>El mundo del libro en Canarias</td>\n",
       "      <td>84-8103-396-0</td>\n",
       "      <td>15</td>\n",
       "      <td>21</td>\n",
       "      <td>3.1</td>\n",
       "      <td>532</td>\n",
       "      <td>976.5</td>\n",
       "      <td>0.48825</td>\n",
       "      <td>780</td>\n",
       "      <td>0.390</td>\n",
       "      <td>0.415</td>\n",
       "    </tr>\n",
       "    <tr>\n",
       "      <th>3</th>\n",
       "      <td>Historia del Cabildo insular de Gran Canaria</td>\n",
       "      <td>84-8103-067-8</td>\n",
       "      <td>17</td>\n",
       "      <td>24</td>\n",
       "      <td>3.9</td>\n",
       "      <td>748</td>\n",
       "      <td>1591.2</td>\n",
       "      <td>0.79560</td>\n",
       "      <td>1240</td>\n",
       "      <td>0.620</td>\n",
       "      <td>0.645</td>\n",
       "    </tr>\n",
       "    <tr>\n",
       "      <th>4</th>\n",
       "      <td>Flora de Gran Canaria 1</td>\n",
       "      <td>978-84-8103-741</td>\n",
       "      <td>27</td>\n",
       "      <td>34</td>\n",
       "      <td>3.0</td>\n",
       "      <td>238</td>\n",
       "      <td>2754.0</td>\n",
       "      <td>1.37700</td>\n",
       "      <td>2280</td>\n",
       "      <td>1.140</td>\n",
       "      <td>1.165</td>\n",
       "    </tr>\n",
       "  </tbody>\n",
       "</table>\n",
       "</div>"
      ],
      "text/plain": [
       "                                   libro_titulo         libro_isbn  ancho_cm  \\\n",
       "0                               Niebla de sueño  978-84-1353-114-4        13   \n",
       "1            La isla de los canarios. Volumen 6  978-84-1353-115-1        21   \n",
       "2                El mundo del libro en Canarias      84-8103-396-0        15   \n",
       "3  Historia del Cabildo insular de Gran Canaria      84-8103-067-8        17   \n",
       "4                       Flora de Gran Canaria 1    978-84-8103-741        27   \n",
       "\n",
       "   alto_cm  grosor_cm  paginas  vol_cm3_1libro  vol_m3_500libros  \\\n",
       "0       19        1.2      162           296.4           0.14820   \n",
       "1       23        0.8       92           386.4           0.19320   \n",
       "2       21        3.1      532           976.5           0.48825   \n",
       "3       24        3.9      748          1591.2           0.79560   \n",
       "4       34        3.0      238          2754.0           1.37700   \n",
       "\n",
       "   peso_g_1libro  peso_sineuropalet_t_500libros  peso_t_500libros  \n",
       "0            250                          0.125             0.150  \n",
       "1            400                          0.200             0.225  \n",
       "2            780                          0.390             0.415  \n",
       "3           1240                          0.620             0.645  \n",
       "4           2280                          1.140             1.165  "
      ]
     },
     "metadata": {},
     "output_type": "display_data"
    }
   ],
   "source": [
    "libros = pd.read_csv('../data/raw/PesoVolumenLibros.csv', encoding='latin1')\n",
    "display(libros)"
   ]
  },
  {
   "cell_type": "markdown",
   "metadata": {},
   "source": [
    "## Etapa 1: identificación de los diferentes trayectos de los servicios de transporte"
   ]
  },
  {
   "cell_type": "markdown",
   "metadata": {},
   "source": [
    "- **Ruta A - Trayecto 1: salida-carga**. Por carretera. Camión con un contenedor. Desde el núcleo urbano en Península o Canarias, exceptuando Gran Canaria, donde se imprimen los libros hasta el puerto más cercano. Metodología EN 16258.\n",
    "- **Ruta A- Trayecto 2: carga-descarga**. Por mar. Buque de carga propio de la ruta que se cubre. Desde el puerto de carga hasta el de descarga en Las Palmas de Gran Canaria. Metodología Clean Cargo Workin Group.\n",
    "- **Ruta A- Trayecto 3: descarga-llegada**. Por carretera. Camión de mercancías. Desde el Puerto de Las Palmas de Gran Canaria hasta el punto de entrega de la mercancía. Metodología EN 16258.\n",
    "- **Ruta B- Trayecto1: salida-llegada**. Por carretera. Camión de mercancías. Desde el núcleo urbano en Gran Canaria donde se imprimen los libros hasta el punto de entrega de la mercancía. Metodología EN 16258."
   ]
  },
  {
   "cell_type": "code",
   "execution_count": 65,
   "metadata": {},
   "outputs": [],
   "source": [
    "salida_carga_distance = pd.read_csv('../data/processed/city_port_distance.csv')\n",
    "salida_carga_distance.drop(columns=['Unnamed: 0', 'id', 'lat', 'lon'], inplace=True)\n",
    "# Si el puerto más cercano es el de Las Palmas significa que la ciudad está en \n",
    "# Gran Canaria, por lo tanto se irá directamente al punto de despacho sin\n",
    "# necesidad de ir al puerto (este trayecto será 0).\n",
    "salida_carga_distance.loc[salida_carga_distance['port_name']=='LAS PALMAS', 'shortest_distance_to_port_km'] = 0 \n",
    "\n",
    "carga_descarga_distance = pd.read_csv('../data/processed/port_portlp_distance.csv')\n",
    "carga_descarga_distance.drop(columns='Unnamed: 0', inplace=True)\n",
    "\n",
    "descarga_llegada_distance = pd.read_csv('../data/processed/puertodescarga_llegada_distance.csv')\n",
    "descarga_llegada_distance.drop(columns='Unnamed: 0', inplace=True)\n",
    "\n",
    "salida_llegada_distance = pd.read_csv('../data/processed/cityGC_destination_distance.csv')\n",
    "salida_llegada_distance.drop(columns='Unnamed: 0', inplace=True)"
   ]
  },
  {
   "cell_type": "code",
   "execution_count": 66,
   "metadata": {},
   "outputs": [],
   "source": [
    "# Dataframes\n",
    "salida_carga = salida_carga_distance.copy()\n",
    "\n",
    "carga_descarga = carga_descarga_distance.copy()\n",
    "\n",
    "descarga_llegada = descarga_llegada_distance.copy()\n",
    "\n",
    "salida_llegada = salida_llegada_distance.copy()"
   ]
  },
  {
   "cell_type": "markdown",
   "metadata": {},
   "source": [
    "## Etapa 2: cálculo del consumo de energía y de emisiones de GEI de cada trayecto y servicio de transporte"
   ]
  },
  {
   "cell_type": "markdown",
   "metadata": {},
   "source": [
    "### Subetapa 2.1: establecimiento del sistema de operación de un vehículo (VOS) relativo a cada trayecto"
   ]
  },
  {
   "cell_type": "markdown",
   "metadata": {},
   "source": [
    "#### 1. Ruta A - Trayecto: salida-carga"
   ]
  },
  {
   "cell_type": "markdown",
   "metadata": {},
   "source": [
    "1.\tVehículo. Un camión de 12-24 toneladas transporta un contenedor (1 TEU ) (Tabla 10, Schmied y Knörr, 2012) con mercancías de tipo medio .\n",
    "2.\tCombustible. El motor es de diésel y no se utilizan biocombustibles.\n",
    "3.\tMasa y factor de carga . El contenedor pesa 1,95 toneladas y lleva una carga de 10,5 toneladas, por lo que su peso total son 12,45 toneladas (Tabla 9, Schmied y Knörr, 2012). Este dato ya considera el factor de carga para mercancías de tipo medio.\n",
    "4.\tConsumo energético específico y viajes en vacío. El consumo energético específico para este camión transportando mercancías de tipo medio y desplazándose por terreno mayoritariamente plano es 0,24 litros/TEU-km (Tabla 12, Schmied y Knörr, 2012). Este consumo ya incluye un 10% de viajes en vacío  adicionales (Tabla 10, Schmied y Knörr, 2012). \n",
    "5.\tTerreno. Se asume que el camión viaja mayoritariamente por terreno plano: autopistas o autovías. No se aplica factor de corrección por el uso de carreteras urbanas."
   ]
  },
  {
   "cell_type": "markdown",
   "metadata": {},
   "source": [
    "#### 2. Ruta A - Trayecto: carga-descarga"
   ]
  },
  {
   "cell_type": "markdown",
   "metadata": {},
   "source": [
    "1.\tVehículo. Se desconoce el tipo de barco que realiza el transporte, por lo que un factor de emisión asociado al tipo de barco no es lo más adecuado. En lugar de esto, conocemos los puntos de salida y de llegada, así como la ruta. Así, un factor de emisión agregado para la ruta resulta más apropiado y esto es lo que provee Clean Cargo Working Group (Clean Cargo, 2021).\n",
    "2.\tRuta (Clean Cargo, 2021)\n",
    "a.\tTrayecto desde Península: Europa (norte y mediterráneo) desde-hacia África.\n",
    "b.\tTrayecto desde Canarias (excepto Gran Canaria): Otra\n",
    "3.\tFactor de utilización. 70%.\n",
    "4.\tDistancia del trayecto. Según Clean Cargo Working Group resalta que las distancias interportuarias subestiman la distancia que realmente navegan los buques. Estudios realizados hasta la fecha indican que aplicando un factor de ajuste de un 15% mejora la precisión del cálculo de emisiones de GEI. En este estudio el factor se aplica a los trayectos desde península, pero no entre islas.\n",
    "5.\tNúmero de contenedores transportados por el buque. Los buques que cubren rutas intracontinentales europeas de media transportan 500-2000 TEU (Tabla 37, EcoTransIT World, 2023).\n",
    "6.\tFrigorífico. Sin contenedores frigoríficos.\n",
    "7.\tMasa. La metodología de CCWG considera que los contenedores tienen una masa neta media de 10 toneladas (CCWG, 2015). Por lo tanto, si asumimos que el contenedor tiene una masa de 1,95 t (Tabla 9, Schmied y Knörr, 2012)., la masa total sería de 11,95 t."
   ]
  },
  {
   "cell_type": "markdown",
   "metadata": {},
   "source": [
    "#### 3. Ruta A - Trayecto: descarga-llegada"
   ]
  },
  {
   "cell_type": "markdown",
   "metadata": {},
   "source": [
    "1.\tVehículo. Un camión con un peso bruto menor a 7,5 t transporta mercancías medias.\n",
    "2.\tCombustible. El motor es de diésel y no se utilizan biocombustibles.\n",
    "3.\tMasa y factor de carga. El camión puede transportar como máximo 3,5 t, pero como el factor de carga es un 60%, la masa de la carga es 2.1 t.\n",
    "4.\tConsumo energético específico y viajes en vacío. El consumo energético específico para este camión transportando mercancías de tipo medio y desplazándose por terreno mayoritariamente plano es 0,077 litro/t-km (Tabla 12, Schmied y Knörr, 2012). Este consumo ya incluye un 20% de viajes en vacío adicionales (Tabla 10, Schmied y Knörr, 2012).\n",
    "5.\tTerreno. Se asume que el camión viaja mayoritariamente por terreno plano. Se aplica un factor de corrección de 0,9 por el uso de carreteras urbanas (Tabla 11, Schmied y Knörr, 2012)."
   ]
  },
  {
   "cell_type": "markdown",
   "metadata": {},
   "source": [
    "#### 4. Ruta B - Trayecto salida-llegada"
   ]
  },
  {
   "cell_type": "markdown",
   "metadata": {},
   "source": [
    "El camión que realiza este servicio es equivalente al del Trayecto 3: descarga-llegada."
   ]
  },
  {
   "cell_type": "markdown",
   "metadata": {},
   "source": [
    "### Subetapa 2.2: cuantificación del consumo total de combustible para cada VOS"
   ]
  },
  {
   "cell_type": "markdown",
   "metadata": {},
   "source": [
    "Este cálculo se realiza únicamente para los trayectos por carretera, donde se utiliza la metodología EN 162158. "
   ]
  },
  {
   "cell_type": "markdown",
   "metadata": {},
   "source": [
    "#### 1. Ruta A - Trayecto salida-carga"
   ]
  },
  {
   "cell_type": "code",
   "execution_count": 67,
   "metadata": {},
   "outputs": [],
   "source": [
    "# Definir funcion para el cálculo del consumo de diesel en base a la distancia.\n",
    "# Se transporta un TEU, por esto no se pone actual cargo weight.\n",
    "def salida_carga_diesel(distancia_trayecto):\n",
    "    specific_energy_consumption_lTEUkm = 0.24\n",
    "    diesel_l = distancia_trayecto * specific_energy_consumption_lTEUkm\n",
    "    return diesel_l"
   ]
  },
  {
   "cell_type": "code",
   "execution_count": 68,
   "metadata": {},
   "outputs": [],
   "source": [
    "salida_carga['consumo_diesel_TEU_l'] = salida_carga.apply(lambda row:salida_carga_diesel(row['shortest_distance_to_port_km']), axis=1)"
   ]
  },
  {
   "cell_type": "markdown",
   "metadata": {},
   "source": [
    "#### 2. Ruta A - Trayecto carga-descarga"
   ]
  },
  {
   "cell_type": "markdown",
   "metadata": {},
   "source": [
    "Este cálculo no es necesario para los trayectos por mar, donde se sigue la metodología de Clean Cargo Working Group."
   ]
  },
  {
   "cell_type": "markdown",
   "metadata": {},
   "source": [
    "#### 3. Ruta A - Trayecto descarga-llegada"
   ]
  },
  {
   "cell_type": "code",
   "execution_count": 69,
   "metadata": {},
   "outputs": [],
   "source": [
    "# Definir funcion para el cálculo del consumo de diesel en base a la distancia.\n",
    "def descarga_llegada_diesel(distancia_trayecto):\n",
    "    specific_energy_consumption_ltkm = 0.077\n",
    "    actual_cargo_weight_t = 2.1\n",
    "    factor_correccion_carreteras_urbanas = 0.9\n",
    "    diesel_l = (distancia_trayecto * actual_cargo_weight_t * specific_energy_consumption_ltkm) * factor_correccion_carreteras_urbanas\n",
    "    return diesel_l"
   ]
  },
  {
   "cell_type": "code",
   "execution_count": 70,
   "metadata": {},
   "outputs": [],
   "source": [
    "descarga_llegada['consumo_diesel_total_l'] = descarga_llegada.apply(lambda row:descarga_llegada_diesel(row['descarga_llegada_distancia_km']), axis=1)"
   ]
  },
  {
   "cell_type": "markdown",
   "metadata": {},
   "source": [
    "#### 4. Ruta B - Trayecto salida-llegada"
   ]
  },
  {
   "cell_type": "code",
   "execution_count": 71,
   "metadata": {},
   "outputs": [],
   "source": [
    "salida_llegada['consumo_diesel_total_l'] = salida_llegada.apply(lambda row:descarga_llegada_diesel(row['salida_llegada_distancia_km']), axis=1)"
   ]
  },
  {
   "cell_type": "markdown",
   "metadata": {},
   "source": [
    "### Subetapa 2.3: cálculo del consumo total de energía y de emisiones de GEI para cada VOS"
   ]
  },
  {
   "cell_type": "markdown",
   "metadata": {},
   "source": [
    "Este valor se obtiene de dos maneras diferentes, dependiendo de si se sigue la metodología EN 16258 (trayectos por tierra) o la de CCWG (trayectos por mar).\n",
    "1.\tTrayectos por tierra (EN 16258). En base al consumo de combustible calculado en la subetapa anterior, se calculan las emisiones de carbono (kgCO2e). Para esto se multiplica el consumo de diésel por los factores de emisión de fuente a ruedas (WTW) y de depósito a ruedas (TTW) (Tabla A.1, AENOR, 2013). Por otro lado, también se podría calcular el consumo de energía de total (MJ) multiplicando por los factores energéticos (WTW y TTW) (Tabla A.1, AENOR, 2013).\n",
    "2.\tTrayectos por mar (CCWG). Las emisiones de CO2.se calcula aplicando la fórmula general de CCWG y los factores emisión actualizados (CCWG, 2015; Clean Cargo, 2021).\n"
   ]
  },
  {
   "cell_type": "markdown",
   "metadata": {},
   "source": [
    "#### 1. Trayecto salida-carga"
   ]
  },
  {
   "cell_type": "markdown",
   "metadata": {},
   "source": [
    "##### Energía total"
   ]
  },
  {
   "cell_type": "code",
   "execution_count": 72,
   "metadata": {},
   "outputs": [],
   "source": [
    "def carretera_consumo_energetico_TTW(consumo_diesel):\n",
    "    factor_energetico_TTW_et_MJl = 35.9\n",
    "    carretera_TTW_MJ = consumo_diesel * factor_energetico_TTW_et_MJl\n",
    "    return carretera_TTW_MJ"
   ]
  },
  {
   "cell_type": "code",
   "execution_count": 73,
   "metadata": {},
   "outputs": [],
   "source": [
    "def carretera_consumo_energetico_WTW(consumo_diesel):\n",
    "    factor_energetico_WTW_ew_MJl = 42.7\n",
    "    carretera_WTW_MJ = consumo_diesel * factor_energetico_WTW_ew_MJl\n",
    "    return carretera_WTW_MJ"
   ]
  },
  {
   "cell_type": "code",
   "execution_count": 74,
   "metadata": {},
   "outputs": [],
   "source": [
    "def carretera_consumo_energetico_WTT(consumo_diesel):\n",
    "    wtw = carretera_consumo_energetico_WTW(consumo_diesel)\n",
    "    ttw = carretera_consumo_energetico_TTW(consumo_diesel)\n",
    "    wtt = wtw - ttw\n",
    "    return wtt"
   ]
  },
  {
   "cell_type": "markdown",
   "metadata": {},
   "source": [
    "##### Emisiones de carbono"
   ]
  },
  {
   "cell_type": "code",
   "execution_count": 75,
   "metadata": {},
   "outputs": [],
   "source": [
    "# Datos (AENOR2013)\n",
    "def carretera_emisiones_carbono_TTW(consumo_diesel):\n",
    "    factor_emision_TTW_gt_kgCO2el = 2.67\n",
    "    carretera_TTW_kgCO2e = consumo_diesel * factor_emision_TTW_gt_kgCO2el\n",
    "    return carretera_TTW_kgCO2e"
   ]
  },
  {
   "cell_type": "code",
   "execution_count": 76,
   "metadata": {},
   "outputs": [],
   "source": [
    "def carretera_emisiones_carbono_WTW(consumo_diesel):\n",
    "    factor_emision_WTW_gw_kgCO2el = 3.24\n",
    "    carretera_WTW_kgCO2e = consumo_diesel * factor_emision_WTW_gw_kgCO2el\n",
    "    return carretera_WTW_kgCO2e"
   ]
  },
  {
   "cell_type": "code",
   "execution_count": 77,
   "metadata": {},
   "outputs": [],
   "source": [
    "def carretera_emisiones_carbono_WTT(consumo_diesel):\n",
    "    wtw = carretera_emisiones_carbono_WTW(consumo_diesel)\n",
    "    ttw = carretera_emisiones_carbono_TTW(consumo_diesel)\n",
    "    wtt = wtw - ttw\n",
    "    return wtt"
   ]
  },
  {
   "cell_type": "code",
   "execution_count": 78,
   "metadata": {},
   "outputs": [],
   "source": [
    "salida_carga['emisionesC_TTW_TEU_kgCO2e'] = salida_carga.apply(lambda row:carretera_emisiones_carbono_TTW(row['consumo_diesel_TEU_l']), axis=1)\n",
    "\n",
    "salida_carga['emisionesC_WTT_TEU_kgCO2e'] = salida_carga.apply(lambda row:carretera_emisiones_carbono_WTT(row['consumo_diesel_TEU_l']), axis=1)\n",
    "\n",
    "salida_carga['emisionesC_WTW_TEU_kgCO2e'] = salida_carga.apply(lambda row:carretera_emisiones_carbono_WTW(row['consumo_diesel_TEU_l']), axis=1)"
   ]
  },
  {
   "cell_type": "markdown",
   "metadata": {},
   "source": [
    "#### 2. Trayecto carga-descarga"
   ]
  },
  {
   "cell_type": "markdown",
   "metadata": {},
   "source": [
    "##### 1. Península"
   ]
  },
  {
   "cell_type": "code",
   "execution_count": 79,
   "metadata": {},
   "outputs": [],
   "source": [
    "def mar_peninsula_emisiones_carbono_WTW(distancia_trayecto):\n",
    "    emission_factor_WTW_gCO2TEUkm = 100.2\n",
    "    detour = distancia_trayecto * 0.15\n",
    "    teus_shipment = 1 \n",
    "    mar_WTW_gCO2e = emission_factor_WTW_gCO2TEUkm * (distancia_trayecto + detour) * teus_shipment\n",
    "    mar_WTW_kgCO2e = mar_WTW_gCO2e/1000\n",
    "    return mar_WTW_kgCO2e"
   ]
  },
  {
   "cell_type": "code",
   "execution_count": 80,
   "metadata": {},
   "outputs": [],
   "source": [
    "def mar_peninsula_emisiones_carbono_TTW(distancia_trayecto):\n",
    "    emission_factor_TTW_gCO2TEUkm = 59.7\n",
    "    detour = distancia_trayecto * 0.15\n",
    "    teus_shipment = 1\n",
    "    mar_TTW_gCO2e = (emission_factor_TTW_gCO2TEUkm * (distancia_trayecto + detour) * teus_shipment) / 0.7\n",
    "    mar_TTW_kgCO2e = mar_TTW_gCO2e/1000\n",
    "    return mar_TTW_kgCO2e"
   ]
  },
  {
   "cell_type": "code",
   "execution_count": 81,
   "metadata": {},
   "outputs": [],
   "source": [
    "def mar_peninsula_emisiones_carbono_WTT(distancia_trayecto):\n",
    "    wtw = mar_peninsula_emisiones_carbono_WTW(distancia_trayecto)\n",
    "    ttw = mar_peninsula_emisiones_carbono_TTW(distancia_trayecto)\n",
    "    wtt = wtw - ttw\n",
    "    return wtt"
   ]
  },
  {
   "cell_type": "markdown",
   "metadata": {},
   "source": [
    "##### 2. Canarias"
   ]
  },
  {
   "cell_type": "code",
   "execution_count": 82,
   "metadata": {},
   "outputs": [],
   "source": [
    "def mar_canarias_emisiones_carbono_WTW(distancia_trayecto):\n",
    "    emission_factor_WTW_gCO2TEUkm = 110.9\n",
    "    detour = distancia_trayecto * 0.15\n",
    "    teus_shipment = 1 \n",
    "    mar_WTW_gCO2e = emission_factor_WTW_gCO2TEUkm * (distancia_trayecto + detour) * teus_shipment\n",
    "    mar_WTW_kgCO2e = mar_WTW_gCO2e/1000\n",
    "    return mar_WTW_kgCO2e"
   ]
  },
  {
   "cell_type": "code",
   "execution_count": 83,
   "metadata": {},
   "outputs": [],
   "source": [
    "def mar_canarias_emisiones_carbono_TTW(distancia_trayecto):\n",
    "    emission_factor_TTW_gCO2TEUkm = 66.8\n",
    "    detour = distancia_trayecto * 0.15\n",
    "    teus_shipment = 1\n",
    "    mar_TTW_gCO2e = (emission_factor_TTW_gCO2TEUkm * (distancia_trayecto + detour) * teus_shipment) / 0.7\n",
    "    mar_TTW_kgCO2e = mar_TTW_gCO2e/1000\n",
    "    return mar_TTW_kgCO2e"
   ]
  },
  {
   "cell_type": "code",
   "execution_count": 84,
   "metadata": {},
   "outputs": [],
   "source": [
    "def mar_canarias_emisiones_carbono_WTT(distancia_trayecto):\n",
    "    wtw = mar_canarias_emisiones_carbono_WTW(distancia_trayecto)\n",
    "    ttw = mar_canarias_emisiones_carbono_TTW(distancia_trayecto)\n",
    "    wtt = wtw - ttw\n",
    "    return wtt"
   ]
  },
  {
   "cell_type": "markdown",
   "metadata": {},
   "source": [
    "Aplicamos las funciones."
   ]
  },
  {
   "cell_type": "code",
   "execution_count": 85,
   "metadata": {},
   "outputs": [],
   "source": [
    "# Diferentes suposiciones dependiendo del puerto de salida\n",
    "canary_ports = ['TENERIFE', 'ARRECIFE', 'LA PALMA', 'LA ESTACA', 'PUERTO DEL ROSARIO', 'LA GOMERA', 'LAS PALMAS']\n",
    "\n",
    "carga_descarga['flag'] = carga_descarga['port_name'].isin(canary_ports) * 1"
   ]
  },
  {
   "cell_type": "code",
   "execution_count": 86,
   "metadata": {},
   "outputs": [],
   "source": [
    "carga_descarga['emisionesC_TTW_TEU_kgCO2e'] = carga_descarga.apply(lambda row:mar_peninsula_emisiones_carbono_TTW(row['distanceLP_km']) if row.flag==0\n",
    "                                                                   else mar_canarias_emisiones_carbono_TTW(row['distanceLP_km']), axis=1)\n",
    "\n",
    "carga_descarga['emisionesC_WTT_TEU_kgCO2e'] = carga_descarga.apply(lambda row:mar_peninsula_emisiones_carbono_WTT(row['distanceLP_km']) if row.flag==0\n",
    "                                                                   else mar_canarias_emisiones_carbono_WTT(row['distanceLP_km']), axis=1)\n",
    "\n",
    "carga_descarga['emisionesC_WTW_TEU_kgCO2e'] = carga_descarga.apply(lambda row:mar_peninsula_emisiones_carbono_WTW(row['distanceLP_km']) if row.flag==0\n",
    "                                                                   else mar_canarias_emisiones_carbono_WTW(row['distanceLP_km']), axis=1)"
   ]
  },
  {
   "cell_type": "markdown",
   "metadata": {},
   "source": [
    "#### 3. Trayecto descarga-llegada"
   ]
  },
  {
   "cell_type": "markdown",
   "metadata": {},
   "source": [
    "##### Emisiones de carbono"
   ]
  },
  {
   "cell_type": "markdown",
   "metadata": {},
   "source": [
    "Aprovechamos las funciones definidas para el Trayecto 1: salida_carga."
   ]
  },
  {
   "cell_type": "code",
   "execution_count": 87,
   "metadata": {},
   "outputs": [],
   "source": [
    "descarga_llegada['emisionesC_TTW_total_kgCO2e'] = descarga_llegada.apply(lambda row:carretera_emisiones_carbono_TTW(row['consumo_diesel_total_l']), axis=1)\n",
    "\n",
    "descarga_llegada['emisionesC_WTT_total_kgCO2e'] = descarga_llegada.apply(lambda row:carretera_emisiones_carbono_WTT(row['consumo_diesel_total_l']), axis=1)\n",
    "\n",
    "descarga_llegada['emisionesC_WTW_total_kgCO2e'] = descarga_llegada.apply(lambda row:carretera_emisiones_carbono_WTW(row['consumo_diesel_total_l']), axis=1)"
   ]
  },
  {
   "cell_type": "markdown",
   "metadata": {},
   "source": [
    "#### 4. Trayecto salida-llegada"
   ]
  },
  {
   "cell_type": "markdown",
   "metadata": {},
   "source": [
    "Aprovechamos las funciones definidas para el Trayecto 1: salida_carga."
   ]
  },
  {
   "cell_type": "code",
   "execution_count": 88,
   "metadata": {},
   "outputs": [],
   "source": [
    "salida_llegada['emisionesC_TTW_total_kgCO2e'] = salida_llegada.apply(lambda row:carretera_emisiones_carbono_TTW(row['consumo_diesel_total_l']), axis=1)\n",
    "\n",
    "salida_llegada['emisionesC_WTT_total_kgCO2e'] = salida_llegada.apply(lambda row:carretera_emisiones_carbono_WTT(row['consumo_diesel_total_l']), axis=1)\n",
    "\n",
    "salida_llegada['emisionesC_WTW_total_kgCO2e'] = salida_llegada.apply(lambda row:carretera_emisiones_carbono_WTW(row['consumo_diesel_total_l']), axis=1)"
   ]
  },
  {
   "cell_type": "markdown",
   "metadata": {},
   "source": [
    "### Subetapa 2.4: asignación a cada trayecto de una porción de cada uno de los resultados de la subetapa 2.3"
   ]
  },
  {
   "cell_type": "markdown",
   "metadata": {},
   "source": [
    "En esta subetapa se asigna una parte de las emisiones y de la energía ya calculadas a la carga de libros. Esto se realiza en base a su participación relativa en la actividad de transporte realizada dentro del VOS. Para esto se calcula un factor de proporción de carga (fc) que luego se multiplicará por las emisiones o energía total. La carga de libros siempre será de 500 ejemplares e incluye la masa de un europalé de 25 kg (Tabla 1).\n",
    "\n",
    "f_(c =)  m_l/m_T \n",
    "\n",
    "Donde:\n",
    "- fc = Factor de proporción de carga (adimensional).\n",
    "- ml = Masa de las 500 unidades de libros (kg). Incluye la masa de un europalé de 25 kg. Tabla 1.\n",
    "- mT = Masa total del cargamento (kg). Valor según trayecto:\n",
    "- Ruta A – Trayecto 1: salida-carga = 12,45 t.\n",
    "- Ruta A – Trayecto 2: carga-descarga = 11,95 t. \n",
    "- Ruta A – Trayecto 3: descarga-llegada = 2,1 t.\n",
    "- Ruta B – Trayecto 1: salida-llegada = 2,1. Se usa la misma función que para el Trayecto 3: descarga-llegada.\n",
    "\n",
    "A continuación, se calcula la proporción de las emisiones de GEI o de la energía total correspondiente al transporte de libros.\n",
    "\n",
    "P= f_c×C\n",
    "\n",
    "Donde:\n",
    "- P = Proporción de las emisiones de GEI (kg CO2e) o de la energía total (MJ) correspondiente al transporte de la carga de libros. Este paso se realiza- por separado de fuente a ruedas (WTW), de depósito a ruedas (TTW) y de fuente a depósito (WTT).\n",
    "- fc = Factor de proporción de carga (adimensional).\n",
    "- C = Emisiones de gases (kg CO2e) o energía total (MJ) calculados en la subetapa 2.3 (apartado 4.2.3 más atrás).\n"
   ]
  },
  {
   "cell_type": "markdown",
   "metadata": {},
   "source": [
    "#### 1. Trayecto salida-carga"
   ]
  },
  {
   "cell_type": "markdown",
   "metadata": {},
   "source": [
    "##### Factor proporción libros"
   ]
  },
  {
   "cell_type": "code",
   "execution_count": 89,
   "metadata": {},
   "outputs": [],
   "source": [
    "# Añadir peso de los libros\n",
    "salida_carga = pd.merge(salida_carga, libros[['libro_titulo', 'peso_t_500libros']], how='cross')"
   ]
  },
  {
   "cell_type": "code",
   "execution_count": 90,
   "metadata": {},
   "outputs": [],
   "source": [
    "def salida_carga_factor_proporcion_carga(peso_mercancia):\n",
    "    actual_cargo_weight_t = 12.45\n",
    "    factor = peso_mercancia / actual_cargo_weight_t\n",
    "    return factor"
   ]
  },
  {
   "cell_type": "markdown",
   "metadata": {},
   "source": [
    "##### Energía total"
   ]
  },
  {
   "cell_type": "code",
   "execution_count": 91,
   "metadata": {},
   "outputs": [],
   "source": [
    "def salida_carga_consumo_energetico_proporcion_TTW(peso_mercancia, consumo_diesel):\n",
    "    factor = salida_carga_factor_proporcion_carga(peso_mercancia)\n",
    "    total = carretera_consumo_energetico_TTW(consumo_diesel)\n",
    "    proporcion = factor * total\n",
    "    return proporcion"
   ]
  },
  {
   "cell_type": "code",
   "execution_count": 92,
   "metadata": {},
   "outputs": [],
   "source": [
    "def salida_carga_consumo_energetico_proporcion_WTW(peso_mercancia, consumo_diesel):\n",
    "    factor = salida_carga_factor_proporcion_carga(peso_mercancia)\n",
    "    total = carretera_consumo_energetico_WTW(consumo_diesel)\n",
    "    proporcion = factor * total\n",
    "    return proporcion"
   ]
  },
  {
   "cell_type": "code",
   "execution_count": 93,
   "metadata": {},
   "outputs": [],
   "source": [
    "def salida_carga_consumo_energetico_proporcion_WTT(peso_mercancia, consumo_diesel):\n",
    "    factor = salida_carga_factor_proporcion_carga(peso_mercancia)\n",
    "    total = carretera_consumo_energetico_WTT(consumo_diesel)\n",
    "    proporcion = factor * total\n",
    "    return proporcion"
   ]
  },
  {
   "cell_type": "markdown",
   "metadata": {},
   "source": [
    "##### Emisiones carbono"
   ]
  },
  {
   "cell_type": "code",
   "execution_count": 94,
   "metadata": {},
   "outputs": [],
   "source": [
    "def salida_carga_emisiones_carbono_proporcion_TTW(peso_mercancia, consumo_diesel):\n",
    "    factor = salida_carga_factor_proporcion_carga(peso_mercancia)\n",
    "    total = carretera_emisiones_carbono_TTW(consumo_diesel)\n",
    "    proporcion = factor * total\n",
    "    return proporcion"
   ]
  },
  {
   "cell_type": "code",
   "execution_count": 95,
   "metadata": {},
   "outputs": [],
   "source": [
    "def salida_carga_emisiones_carbono_proporcion_WTW(peso_mercancia, consumo_diesel):\n",
    "    factor = salida_carga_factor_proporcion_carga(peso_mercancia)\n",
    "    total = carretera_emisiones_carbono_WTW(consumo_diesel)\n",
    "    proporcion = factor * total\n",
    "    return proporcion"
   ]
  },
  {
   "cell_type": "code",
   "execution_count": 96,
   "metadata": {},
   "outputs": [],
   "source": [
    "def salida_carga_emisiones_carbono_proporcion_WTT(peso_mercancia, consumo_diesel):\n",
    "    factor = salida_carga_factor_proporcion_carga(peso_mercancia)\n",
    "    total = carretera_emisiones_carbono_WTT(consumo_diesel)\n",
    "    proporcion = factor * total\n",
    "    return proporcion"
   ]
  },
  {
   "cell_type": "code",
   "execution_count": 97,
   "metadata": {},
   "outputs": [],
   "source": [
    "# El contendor pesa en total 12.45 tonnes (actual_cargo_weight_t)\n",
    "salida_carga['emisionesC_TTW_libros_kgCO2e'] = salida_carga.apply(lambda row:salida_carga_emisiones_carbono_proporcion_TTW(peso_mercancia=row['peso_t_500libros'], consumo_diesel=row['consumo_diesel_TEU_l']), axis=1)\n",
    "\n",
    "salida_carga['emisionesC_WTT_libros_kgCO2e'] = salida_carga.apply(lambda row:salida_carga_emisiones_carbono_proporcion_WTT(peso_mercancia=row['peso_t_500libros'], consumo_diesel=row['consumo_diesel_TEU_l']), axis=1)\n",
    "\n",
    "salida_carga['emisionesC_WTW_libros_kgCO2e'] = salida_carga.apply(lambda row:salida_carga_emisiones_carbono_proporcion_WTW(peso_mercancia=row['peso_t_500libros'], consumo_diesel=row['consumo_diesel_TEU_l']), axis=1)"
   ]
  },
  {
   "cell_type": "markdown",
   "metadata": {},
   "source": [
    "#### 2. Trayecto carga-descarga"
   ]
  },
  {
   "cell_type": "markdown",
   "metadata": {},
   "source": [
    "##### Factor proporción libros"
   ]
  },
  {
   "cell_type": "code",
   "execution_count": 98,
   "metadata": {},
   "outputs": [],
   "source": [
    "# Añadir peso de los libros\n",
    "carga_descarga = pd.merge(carga_descarga, libros[['libro_titulo', 'peso_t_500libros']], how='cross')"
   ]
  },
  {
   "cell_type": "code",
   "execution_count": 99,
   "metadata": {},
   "outputs": [],
   "source": [
    "# La metodología de Clean Cargo asume que 1 TEU = 10 toneladas\n",
    "def mar_factor_proporcion_carga(peso_mercancia):\n",
    "    actual_cargo_weight_t = 11.95\n",
    "    factor = peso_mercancia / actual_cargo_weight_t\n",
    "    return factor"
   ]
  },
  {
   "cell_type": "markdown",
   "metadata": {},
   "source": [
    "##### Emisiones de carbono"
   ]
  },
  {
   "cell_type": "markdown",
   "metadata": {},
   "source": [
    "###### 1. Península"
   ]
  },
  {
   "cell_type": "code",
   "execution_count": 100,
   "metadata": {},
   "outputs": [],
   "source": [
    "def mar_peninsula_emisiones_carbono_proporcion_TTW(peso_mercancia, distancia_trayecto):\n",
    "    factor = mar_factor_proporcion_carga(peso_mercancia)\n",
    "    total = mar_peninsula_emisiones_carbono_TTW(distancia_trayecto)\n",
    "    proporcion = factor * total\n",
    "    return proporcion"
   ]
  },
  {
   "cell_type": "code",
   "execution_count": 101,
   "metadata": {},
   "outputs": [],
   "source": [
    "def mar_peninsula_emisiones_carbono_proporcion_WTW(peso_mercancia, distancia_trayecto):\n",
    "    factor = mar_factor_proporcion_carga(peso_mercancia)\n",
    "    total = mar_peninsula_emisiones_carbono_WTW(distancia_trayecto)\n",
    "    proporcion = factor * total\n",
    "    return proporcion"
   ]
  },
  {
   "cell_type": "code",
   "execution_count": 102,
   "metadata": {},
   "outputs": [],
   "source": [
    "def mar_peninsula_emisiones_carbono_proporcion_WTT(peso_mercancia, distancia_trayecto):\n",
    "    factor = mar_factor_proporcion_carga(peso_mercancia)\n",
    "    total = mar_peninsula_emisiones_carbono_WTT(distancia_trayecto)\n",
    "    proporcion = factor * total\n",
    "    return proporcion"
   ]
  },
  {
   "cell_type": "markdown",
   "metadata": {},
   "source": [
    "###### 2. Canarias"
   ]
  },
  {
   "cell_type": "code",
   "execution_count": 103,
   "metadata": {},
   "outputs": [],
   "source": [
    "def mar_canarias_emisiones_carbono_proporcion_TTW(peso_mercancia, distancia_trayecto):\n",
    "    factor = mar_factor_proporcion_carga(peso_mercancia)\n",
    "    total = mar_canarias_emisiones_carbono_TTW(distancia_trayecto)\n",
    "    proporcion = factor * total\n",
    "    return proporcion"
   ]
  },
  {
   "cell_type": "code",
   "execution_count": 104,
   "metadata": {},
   "outputs": [],
   "source": [
    "def mar_canarias_emisiones_carbono_proporcion_WTW(peso_mercancia, distancia_trayecto):\n",
    "    factor = mar_factor_proporcion_carga(peso_mercancia)\n",
    "    total = mar_canarias_emisiones_carbono_WTW(distancia_trayecto)\n",
    "    proporcion = factor * total\n",
    "    return proporcion"
   ]
  },
  {
   "cell_type": "code",
   "execution_count": 105,
   "metadata": {},
   "outputs": [],
   "source": [
    "def mar_canarias_emisiones_carbono_proporcion_WTT(peso_mercancia, distancia_trayecto):\n",
    "    factor = mar_factor_proporcion_carga(peso_mercancia)\n",
    "    total = mar_canarias_emisiones_carbono_WTT(distancia_trayecto)\n",
    "    proporcion = factor * total\n",
    "    return proporcion"
   ]
  },
  {
   "cell_type": "code",
   "execution_count": 106,
   "metadata": {},
   "outputs": [],
   "source": [
    "carga_descarga['emisionesC_TTW_libros_kgCO2e'] = carga_descarga.apply(lambda row:mar_peninsula_emisiones_carbono_proporcion_TTW(peso_mercancia=row['peso_t_500libros'], distancia_trayecto=row['distanceLP_km']) if row.flag==0\n",
    "                                                                   else mar_canarias_emisiones_carbono_proporcion_TTW(peso_mercancia=row['peso_t_500libros'], distancia_trayecto=row['distanceLP_km']), axis=1)\n",
    "\n",
    "carga_descarga['emisionesC_WTT_libros_kgCO2e'] = carga_descarga.apply(lambda row:mar_peninsula_emisiones_carbono_proporcion_WTT(peso_mercancia=row['peso_t_500libros'], distancia_trayecto=row['distanceLP_km']) if row.flag==0\n",
    "                                                                   else mar_canarias_emisiones_carbono_proporcion_WTT(peso_mercancia=row['peso_t_500libros'], distancia_trayecto=row['distanceLP_km']), axis=1)\n",
    "\n",
    "carga_descarga['emisionesC_WTW_libros_kgCO2e'] = carga_descarga.apply(lambda row:mar_peninsula_emisiones_carbono_proporcion_WTW(peso_mercancia=row['peso_t_500libros'], distancia_trayecto=row['distanceLP_km']) if row.flag==0\n",
    "                                                                   else mar_canarias_emisiones_carbono_proporcion_WTW(peso_mercancia=row['peso_t_500libros'], distancia_trayecto=row['distanceLP_km']), axis=1)"
   ]
  },
  {
   "cell_type": "markdown",
   "metadata": {},
   "source": [
    "#### 3. Trayecto descarga-llegada"
   ]
  },
  {
   "cell_type": "code",
   "execution_count": 107,
   "metadata": {},
   "outputs": [],
   "source": [
    "# Añadir peso de los libros\n",
    "descarga_llegada = pd.merge(descarga_llegada, libros[['libro_titulo', 'peso_t_500libros']], how='cross')"
   ]
  },
  {
   "cell_type": "markdown",
   "metadata": {},
   "source": [
    "##### Factor proporción libros"
   ]
  },
  {
   "cell_type": "code",
   "execution_count": 108,
   "metadata": {},
   "outputs": [],
   "source": [
    "def carreteraGC_factor_proporcion_carga(peso_mercancia):\n",
    "    actual_cargo_weight_t = 2.1\n",
    "    factor = peso_mercancia / actual_cargo_weight_t\n",
    "    return factor"
   ]
  },
  {
   "cell_type": "markdown",
   "metadata": {},
   "source": [
    "##### Energía total"
   ]
  },
  {
   "cell_type": "code",
   "execution_count": 109,
   "metadata": {},
   "outputs": [],
   "source": [
    "def carreteraGC_consumo_energetico_proporcion_TTW(peso_mercancia, consumo_diesel):\n",
    "    factor = carreteraGC_factor_proporcion_carga(peso_mercancia)\n",
    "    total = carretera_consumo_energetico_TTW(consumo_diesel)\n",
    "    proporcion = factor * total\n",
    "    return proporcion"
   ]
  },
  {
   "cell_type": "code",
   "execution_count": 110,
   "metadata": {},
   "outputs": [],
   "source": [
    "def carreteraGC_consumo_energetico_proporcion_WTW(peso_mercancia, consumo_diesel):\n",
    "    factor = carreteraGC_factor_proporcion_carga(peso_mercancia)\n",
    "    total = carretera_consumo_energetico_WTW(consumo_diesel)\n",
    "    proporcion = factor * total\n",
    "    return proporcion"
   ]
  },
  {
   "cell_type": "code",
   "execution_count": 111,
   "metadata": {},
   "outputs": [],
   "source": [
    "def carreteraGC_consumo_energetico_proporcion_WTT(peso_mercancia, consumo_diesel):\n",
    "    factor = carreteraGC_factor_proporcion_carga(peso_mercancia)\n",
    "    total = carretera_consumo_energetico_WTT(consumo_diesel)\n",
    "    proporcion = factor * total\n",
    "    return proporcion"
   ]
  },
  {
   "cell_type": "markdown",
   "metadata": {},
   "source": [
    "##### Emisiones carbono"
   ]
  },
  {
   "cell_type": "code",
   "execution_count": 112,
   "metadata": {},
   "outputs": [],
   "source": [
    "def carreteraGC_emisiones_carbono_proporcion_TTW(peso_mercancia, consumo_diesel):\n",
    "    factor = carreteraGC_factor_proporcion_carga(peso_mercancia)\n",
    "    total = carretera_emisiones_carbono_TTW(consumo_diesel)\n",
    "    proporcion = factor * total\n",
    "    return proporcion"
   ]
  },
  {
   "cell_type": "code",
   "execution_count": 113,
   "metadata": {},
   "outputs": [],
   "source": [
    "def carreteraGC_emisiones_carbono_proporcion_WTW(peso_mercancia, consumo_diesel):\n",
    "    factor = carreteraGC_factor_proporcion_carga(peso_mercancia)\n",
    "    total = carretera_emisiones_carbono_WTW(consumo_diesel)\n",
    "    proporcion = factor * total\n",
    "    return proporcion"
   ]
  },
  {
   "cell_type": "code",
   "execution_count": 114,
   "metadata": {},
   "outputs": [],
   "source": [
    "def carreteraGC_emisiones_carbono_proporcion_WTT(peso_mercancia, consumo_diesel):\n",
    "    factor = carreteraGC_factor_proporcion_carga(peso_mercancia)\n",
    "    total = carretera_emisiones_carbono_WTT(consumo_diesel)\n",
    "    proporcion = factor * total\n",
    "    return proporcion"
   ]
  },
  {
   "cell_type": "code",
   "execution_count": 115,
   "metadata": {},
   "outputs": [],
   "source": [
    "descarga_llegada['emisionesC_TTW_libros_kgCO2e'] = descarga_llegada.apply(lambda row:carreteraGC_emisiones_carbono_proporcion_TTW(peso_mercancia=row['peso_t_500libros'], consumo_diesel=row['consumo_diesel_total_l']), axis=1)\n",
    "\n",
    "descarga_llegada['emisionesC_WTT_libros_kgCO2e'] = descarga_llegada.apply(lambda row:carreteraGC_emisiones_carbono_proporcion_WTT(peso_mercancia=row['peso_t_500libros'], consumo_diesel=row['consumo_diesel_total_l']), axis=1)\n",
    "\n",
    "descarga_llegada['emisionesC_WTW_libros_kgCO2e'] = descarga_llegada.apply(lambda row:carreteraGC_emisiones_carbono_proporcion_WTW(peso_mercancia=row['peso_t_500libros'], consumo_diesel=row['consumo_diesel_total_l']), axis=1)"
   ]
  },
  {
   "cell_type": "markdown",
   "metadata": {},
   "source": [
    "#### 4. Trayecto salida-llegada"
   ]
  },
  {
   "cell_type": "code",
   "execution_count": 116,
   "metadata": {},
   "outputs": [],
   "source": [
    "# Añadir peso de los libros\n",
    "salida_llegada = pd.merge(salida_llegada, libros[['libro_titulo', 'peso_t_500libros']], how='cross')"
   ]
  },
  {
   "cell_type": "markdown",
   "metadata": {},
   "source": [
    "Se usan las funciones definidas en el Trayecto descarga-llegada."
   ]
  },
  {
   "cell_type": "code",
   "execution_count": 117,
   "metadata": {},
   "outputs": [],
   "source": [
    "salida_llegada['emisionesC_TTW_libros_kgCO2e'] = salida_llegada.apply(lambda row:carreteraGC_emisiones_carbono_proporcion_TTW(peso_mercancia=row['peso_t_500libros'], consumo_diesel=row['consumo_diesel_total_l']), axis=1)\n",
    "\n",
    "salida_llegada['emisionesC_WTT_libros_kgCO2e'] = salida_llegada.apply(lambda row:carreteraGC_emisiones_carbono_proporcion_WTT(peso_mercancia=row['peso_t_500libros'], consumo_diesel=row['consumo_diesel_total_l']), axis=1)\n",
    "\n",
    "salida_llegada['emisionesC_WTW_libros_kgCO2e'] = salida_llegada.apply(lambda row:carreteraGC_emisiones_carbono_proporcion_WTW(peso_mercancia=row['peso_t_500libros'], consumo_diesel=row['consumo_diesel_total_l']), axis=1)"
   ]
  },
  {
   "cell_type": "code",
   "execution_count": 118,
   "metadata": {},
   "outputs": [],
   "source": [
    "salida_llegada_GC = salida_llegada.copy()"
   ]
  },
  {
   "cell_type": "markdown",
   "metadata": {},
   "source": [
    "## Etapa 3: suma de los resultados de cada trayecto"
   ]
  },
  {
   "cell_type": "markdown",
   "metadata": {},
   "source": [
    "### Puntos de inicio fuera de Gran Canaria"
   ]
  },
  {
   "cell_type": "code",
   "execution_count": 119,
   "metadata": {},
   "outputs": [],
   "source": [
    "salida_carga.drop(columns=['consumo_diesel_TEU_l',\n",
    "'emisionesC_TTW_TEU_kgCO2e', 'emisionesC_WTT_TEU_kgCO2e', 'emisionesC_WTW_TEU_kgCO2e'], inplace=True)\n",
    "\n",
    "# Renombrar columnas para unir\n",
    "salida_carga.rename(columns={'port_name': 'port_name_salida',\n",
    "'emisionesC_TTW_libros_kgCO2e': 'emisionesC_TTW_libros_kgCO2e_SC',\n",
    "'emisionesC_WTT_libros_kgCO2e': 'emisionesC_WTT_libros_kgCO2e_SC', \n",
    "'emisionesC_WTW_libros_kgCO2e': 'emisionesC_WTW_libros_kgCO2e_SC'}, inplace=True)"
   ]
  },
  {
   "cell_type": "code",
   "execution_count": 120,
   "metadata": {},
   "outputs": [],
   "source": [
    "carga_descarga.drop(columns=['distanceLP_nm', 'flag',\n",
    "'emisionesC_TTW_TEU_kgCO2e', 'emisionesC_WTT_TEU_kgCO2e', 'emisionesC_WTW_TEU_kgCO2e'], inplace=True)\n",
    "\n",
    "# Renombrar columnas para unir\n",
    "carga_descarga.rename(columns={'port_name': 'port_name_salida',\n",
    "'emisionesC_TTW_libros_kgCO2e': 'emisionesC_TTW_libros_kgCO2e_CD',\n",
    "'emisionesC_WTT_libros_kgCO2e': 'emisionesC_WTT_libros_kgCO2e_CD', \n",
    "'emisionesC_WTW_libros_kgCO2e': 'emisionesC_WTW_libros_kgCO2e_CD'}, inplace=True)"
   ]
  },
  {
   "cell_type": "code",
   "execution_count": 121,
   "metadata": {},
   "outputs": [],
   "source": [
    "descarga_llegada.drop(columns=['port_latlon', 'consumo_diesel_total_l', \n",
    "'emisionesC_TTW_total_kgCO2e', 'emisionesC_WTT_total_kgCO2e', 'emisionesC_WTW_total_kgCO2e'], inplace=True)\n",
    "\n",
    "# Renombrar columnas para unir\n",
    "descarga_llegada.rename(columns={'port_name': 'port_name_llegada',\n",
    "'emisionesC_TTW_libros_kgCO2e': 'emisionesC_TTW_libros_kgCO2e_DL',\n",
    "'emisionesC_WTT_libros_kgCO2e': 'emisionesC_WTT_libros_kgCO2e_DL', \n",
    "'emisionesC_WTW_libros_kgCO2e': 'emisionesC_WTW_libros_kgCO2e_DL'}, inplace=True)"
   ]
  },
  {
   "cell_type": "code",
   "execution_count": 122,
   "metadata": {},
   "outputs": [],
   "source": [
    "# Unir trayectos\n",
    "salida_descarga_noGC = pd.merge(salida_carga, carga_descarga, on=['port_name_salida', 'libro_titulo', 'peso_t_500libros'])\n",
    "\n",
    "salida_llegada_noGC = pd.merge(salida_descarga_noGC, descarga_llegada, on=['libro_titulo', 'peso_t_500libros'])\n",
    "\n",
    "# Elimino los puntos de salida que son desde GC\n",
    "salida_llegada_noGC = salida_llegada_noGC[salida_llegada_noGC['port_name_salida'] !='LAS PALMAS']\n",
    "\n",
    "# Suma ruta distancia total\n",
    "salida_llegada_noGC[\"distancia_ruta_km\"] = salida_llegada_noGC['shortest_distance_to_port_km'] + salida_llegada_noGC['distanceLP_km']\n",
    "+ salida_llegada_noGC['descarga_llegada_distancia_km']\n",
    "# Suma ruta emisiones\n",
    "salida_llegada_noGC['emisionesC_TTW_libros_kgCO2e_ruta'] = salida_llegada_noGC['emisionesC_TTW_libros_kgCO2e_SC'] + salida_llegada_noGC['emisionesC_TTW_libros_kgCO2e_CD'] + salida_llegada_noGC['emisionesC_TTW_libros_kgCO2e_DL']\n",
    "salida_llegada_noGC['emisionesC_WTT_libros_kgCO2e_ruta'] = salida_llegada_noGC['emisionesC_WTT_libros_kgCO2e_SC'] + salida_llegada_noGC['emisionesC_WTT_libros_kgCO2e_CD'] + salida_llegada_noGC['emisionesC_WTT_libros_kgCO2e_DL']\n",
    "salida_llegada_noGC['emisionesC_WTW_libros_kgCO2e_ruta'] = salida_llegada_noGC['emisionesC_WTW_libros_kgCO2e_SC'] + salida_llegada_noGC['emisionesC_WTW_libros_kgCO2e_CD'] + salida_llegada_noGC['emisionesC_WTW_libros_kgCO2e_DL']"
   ]
  },
  {
   "cell_type": "markdown",
   "metadata": {},
   "source": [
    "### Añadir puntos de inicio en Gran Canaria"
   ]
  },
  {
   "cell_type": "code",
   "execution_count": 123,
   "metadata": {},
   "outputs": [],
   "source": [
    "salida_llegada_GC.drop(columns=['consumo_diesel_total_l',\n",
    "'emisionesC_TTW_total_kgCO2e', 'emisionesC_WTT_total_kgCO2e', 'emisionesC_WTW_total_kgCO2e'], inplace=True)\n",
    "\n",
    "# Renombrar columnas para unir\n",
    "salida_llegada_GC.rename(columns={'salida_llegada_distancia_km': 'distancia_ruta_km',\n",
    "'emisionesC_TTW_libros_kgCO2e': 'emisionesC_TTW_libros_kgCO2e_ruta',\n",
    "'emisionesC_WTT_libros_kgCO2e': 'emisionesC_WTT_libros_kgCO2e_ruta', \n",
    "'emisionesC_WTW_libros_kgCO2e': 'emisionesC_WTW_libros_kgCO2e_ruta'}, inplace=True)"
   ]
  },
  {
   "cell_type": "markdown",
   "metadata": {},
   "source": [
    "Ordenar y concatenar resultados"
   ]
  },
  {
   "cell_type": "code",
   "execution_count": 124,
   "metadata": {},
   "outputs": [],
   "source": [
    "salida_llegada_noGC = salida_llegada_noGC[['name', 'population', 'latlon', 'port_name_salida', 'port_latlon', \n",
    "'punto_llegada_latlon', 'libro_titulo', 'peso_t_500libros', 'distancia_ruta_km', \n",
    "'emisionesC_TTW_libros_kgCO2e_ruta', 'emisionesC_WTT_libros_kgCO2e_ruta', 'emisionesC_WTW_libros_kgCO2e_ruta']]\n",
    "\n",
    "salida_llegada_GC = salida_llegada_GC[['name', 'population', 'latlon', 'punto_llegada_latlon', 'libro_titulo', 'peso_t_500libros',\n",
    "'distancia_ruta_km', 'emisionesC_TTW_libros_kgCO2e_ruta', 'emisionesC_WTT_libros_kgCO2e_ruta', 'emisionesC_WTW_libros_kgCO2e_ruta']]\n",
    "\n",
    "resultados_huella = pd.concat([salida_llegada_GC, salida_llegada_noGC]).reset_index(drop=True)\n",
    "\n",
    "resultados_huella.to_csv('../data/final/resultados_huella.csv')"
   ]
  },
  {
   "cell_type": "code",
   "execution_count": null,
   "metadata": {},
   "outputs": [],
   "source": []
  }
 ],
 "metadata": {
  "kernelspec": {
   "display_name": "Huella-carbono-transporte-editorial-rRnBe7lo",
   "language": "python",
   "name": "python3"
  },
  "language_info": {
   "codemirror_mode": {
    "name": "ipython",
    "version": 3
   },
   "file_extension": ".py",
   "mimetype": "text/x-python",
   "name": "python",
   "nbconvert_exporter": "python",
   "pygments_lexer": "ipython3",
   "version": "3.10.6"
  },
  "orig_nbformat": 4
 },
 "nbformat": 4,
 "nbformat_minor": 2
}
