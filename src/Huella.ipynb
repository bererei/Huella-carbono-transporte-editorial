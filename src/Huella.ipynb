{
 "cells": [
  {
   "cell_type": "code",
   "execution_count": 80,
   "metadata": {},
   "outputs": [],
   "source": [
    "import pandas as pd\n",
    "from unidecode import unidecode"
   ]
  },
  {
   "cell_type": "markdown",
   "metadata": {},
   "source": [
    "## Peso y volumen de los libros"
   ]
  },
  {
   "cell_type": "code",
   "execution_count": 81,
   "metadata": {},
   "outputs": [
    {
     "data": {
      "text/html": [
       "<div>\n",
       "<style scoped>\n",
       "    .dataframe tbody tr th:only-of-type {\n",
       "        vertical-align: middle;\n",
       "    }\n",
       "\n",
       "    .dataframe tbody tr th {\n",
       "        vertical-align: top;\n",
       "    }\n",
       "\n",
       "    .dataframe thead th {\n",
       "        text-align: right;\n",
       "    }\n",
       "</style>\n",
       "<table border=\"1\" class=\"dataframe\">\n",
       "  <thead>\n",
       "    <tr style=\"text-align: right;\">\n",
       "      <th></th>\n",
       "      <th>libro_titulo</th>\n",
       "      <th>libro_isbn</th>\n",
       "      <th>ancho_cm</th>\n",
       "      <th>alto_cm</th>\n",
       "      <th>grosor_cm</th>\n",
       "      <th>paginas</th>\n",
       "      <th>vol_cm3_1libro</th>\n",
       "      <th>vol_m3_500libros</th>\n",
       "      <th>peso_g_1libro</th>\n",
       "      <th>peso_t_500libros</th>\n",
       "    </tr>\n",
       "  </thead>\n",
       "  <tbody>\n",
       "    <tr>\n",
       "      <th>0</th>\n",
       "      <td>Niebla de sueño</td>\n",
       "      <td>978-84-1353-114-4</td>\n",
       "      <td>13</td>\n",
       "      <td>19</td>\n",
       "      <td>1.2</td>\n",
       "      <td>162</td>\n",
       "      <td>296.4</td>\n",
       "      <td>0.14820</td>\n",
       "      <td>250</td>\n",
       "      <td>0.125</td>\n",
       "    </tr>\n",
       "    <tr>\n",
       "      <th>1</th>\n",
       "      <td>La isla de los canarios. Volumen 6</td>\n",
       "      <td>978-84-1353-115-1</td>\n",
       "      <td>21</td>\n",
       "      <td>23</td>\n",
       "      <td>0.8</td>\n",
       "      <td>92</td>\n",
       "      <td>386.4</td>\n",
       "      <td>0.19320</td>\n",
       "      <td>400</td>\n",
       "      <td>0.200</td>\n",
       "    </tr>\n",
       "    <tr>\n",
       "      <th>2</th>\n",
       "      <td>El mundo del libro en Canarias</td>\n",
       "      <td>84-8103-396-0</td>\n",
       "      <td>15</td>\n",
       "      <td>21</td>\n",
       "      <td>3.1</td>\n",
       "      <td>532</td>\n",
       "      <td>976.5</td>\n",
       "      <td>0.48825</td>\n",
       "      <td>780</td>\n",
       "      <td>0.390</td>\n",
       "    </tr>\n",
       "    <tr>\n",
       "      <th>3</th>\n",
       "      <td>Historia del Cabildo insular de Gran Canaria</td>\n",
       "      <td>84-8103-067-8</td>\n",
       "      <td>17</td>\n",
       "      <td>24</td>\n",
       "      <td>3.9</td>\n",
       "      <td>748</td>\n",
       "      <td>1591.2</td>\n",
       "      <td>0.79560</td>\n",
       "      <td>1240</td>\n",
       "      <td>0.620</td>\n",
       "    </tr>\n",
       "    <tr>\n",
       "      <th>4</th>\n",
       "      <td>Flora de Gran Canaria 1</td>\n",
       "      <td>978-84-8103-741</td>\n",
       "      <td>27</td>\n",
       "      <td>34</td>\n",
       "      <td>3.0</td>\n",
       "      <td>238</td>\n",
       "      <td>2754.0</td>\n",
       "      <td>1.37700</td>\n",
       "      <td>2280</td>\n",
       "      <td>1.140</td>\n",
       "    </tr>\n",
       "  </tbody>\n",
       "</table>\n",
       "</div>"
      ],
      "text/plain": [
       "                                   libro_titulo         libro_isbn  ancho_cm  \\\n",
       "0                               Niebla de sueño  978-84-1353-114-4        13   \n",
       "1            La isla de los canarios. Volumen 6  978-84-1353-115-1        21   \n",
       "2                El mundo del libro en Canarias      84-8103-396-0        15   \n",
       "3  Historia del Cabildo insular de Gran Canaria      84-8103-067-8        17   \n",
       "4                       Flora de Gran Canaria 1    978-84-8103-741        27   \n",
       "\n",
       "   alto_cm  grosor_cm  paginas  vol_cm3_1libro  vol_m3_500libros  \\\n",
       "0       19        1.2      162           296.4           0.14820   \n",
       "1       23        0.8       92           386.4           0.19320   \n",
       "2       21        3.1      532           976.5           0.48825   \n",
       "3       24        3.9      748          1591.2           0.79560   \n",
       "4       34        3.0      238          2754.0           1.37700   \n",
       "\n",
       "   peso_g_1libro  peso_t_500libros  \n",
       "0            250             0.125  \n",
       "1            400             0.200  \n",
       "2            780             0.390  \n",
       "3           1240             0.620  \n",
       "4           2280             1.140  "
      ]
     },
     "metadata": {},
     "output_type": "display_data"
    }
   ],
   "source": [
    "libros = pd.read_csv('../data/raw/PesoVolumenLibros.csv', encoding='latin1')\n",
    "display(libros)"
   ]
  },
  {
   "cell_type": "markdown",
   "metadata": {},
   "source": [
    "# Etapa 1: identificación de los diferentes trayectos de este servicio de transporte"
   ]
  },
  {
   "cell_type": "markdown",
   "metadata": {},
   "source": [
    "**Ruta**. Camino (a ser) tomado para llegar de un punto de partida a un punto de destino. (AENOR2013)\n",
    "\n",
    "**Trayecto**. Para un servicio de transporte de mercancías o de pasajeros, la sección de la ruta tomada o que se ha de tomar, dentro de la cual el vehículo transporta las mercancías o el pasajero (AENOR2013)."
   ]
  },
  {
   "cell_type": "code",
   "execution_count": 82,
   "metadata": {},
   "outputs": [],
   "source": [
    "salida_carga_distance = pd.read_csv('../data/final/city_port_distance.csv')\n",
    "salida_carga_distance.drop(columns=['Unnamed: 0', 'id', 'lat', 'lon'], inplace=True)\n",
    "# Si el puerto más cercano es el de Las Palmas significa que la ciudad está en \n",
    "# Gran Canaria, por lo tanto se irá directamente al punto de despacho sin\n",
    "# necesidad de ir al puerto (este trayecto será 0).\n",
    "salida_carga_distance.loc[salida_carga_distance['port_name']=='LAS PALMAS', 'shortest_distance_to_port_km'] = 0 \n",
    "\n",
    "carga_descarga_distance = pd.read_csv('../data/final/port_portlp_distance.csv')\n",
    "carga_descarga_distance.drop(columns='Unnamed: 0', inplace=True)\n",
    "\n",
    "descarga_llegada_distance = pd.read_csv('../data/final/puertodescarga_llegada_distance.csv')\n",
    "descarga_llegada_distance.drop(columns='Unnamed: 0', inplace=True)"
   ]
  },
  {
   "cell_type": "code",
   "execution_count": 83,
   "metadata": {},
   "outputs": [],
   "source": [
    "# Añadir datos del peso de los libros a transportar para cada trayecto\n",
    "salida_carga = salida_carga_distance.copy()\n",
    "\n",
    "carga_descarga = carga_descarga_distance.copy()\n",
    "# carga_descarga = pd.merge(carga_descarga_distance, libros[['libro_titulo', 'peso_t_500libros']], how='cross')\n",
    "\n",
    "descarga_llegada = descarga_llegada_distance.copy()"
   ]
  },
  {
   "cell_type": "code",
   "execution_count": 84,
   "metadata": {},
   "outputs": [
    {
     "data": {
      "text/plain": [
       "'TrayectoSC por carretera'"
      ]
     },
     "metadata": {},
     "output_type": "display_data"
    },
    {
     "data": {
      "text/html": [
       "<div>\n",
       "<style scoped>\n",
       "    .dataframe tbody tr th:only-of-type {\n",
       "        vertical-align: middle;\n",
       "    }\n",
       "\n",
       "    .dataframe tbody tr th {\n",
       "        vertical-align: top;\n",
       "    }\n",
       "\n",
       "    .dataframe thead th {\n",
       "        text-align: right;\n",
       "    }\n",
       "</style>\n",
       "<table border=\"1\" class=\"dataframe\">\n",
       "  <thead>\n",
       "    <tr style=\"text-align: right;\">\n",
       "      <th></th>\n",
       "      <th>name</th>\n",
       "      <th>population</th>\n",
       "      <th>latlon</th>\n",
       "      <th>port_name</th>\n",
       "      <th>port_latlon</th>\n",
       "      <th>shortest_distance_to_port_km</th>\n",
       "    </tr>\n",
       "  </thead>\n",
       "  <tbody>\n",
       "    <tr>\n",
       "      <th>0</th>\n",
       "      <td>FUENGIROLA</td>\n",
       "      <td>71482</td>\n",
       "      <td>36.53998,-4.62473</td>\n",
       "      <td>ALGECIRAS</td>\n",
       "      <td>36.13672,-5.434271</td>\n",
       "      <td>254.677</td>\n",
       "    </tr>\n",
       "    <tr>\n",
       "      <th>1</th>\n",
       "      <td>CALVIA</td>\n",
       "      <td>51774</td>\n",
       "      <td>39.5657,2.50621</td>\n",
       "      <td>VALENCIA</td>\n",
       "      <td>39.44231,-0.316466</td>\n",
       "      <td>284.566</td>\n",
       "    </tr>\n",
       "    <tr>\n",
       "      <th>2</th>\n",
       "      <td>ARONA</td>\n",
       "      <td>78614</td>\n",
       "      <td>28.09962,-16.68102</td>\n",
       "      <td>LA GOMERA</td>\n",
       "      <td>28.0655,-17.1175</td>\n",
       "      <td>56.399</td>\n",
       "    </tr>\n",
       "    <tr>\n",
       "      <th>3</th>\n",
       "      <td>PONTEVEDRA</td>\n",
       "      <td>81576</td>\n",
       "      <td>42.431,-8.64435</td>\n",
       "      <td>BILBAO</td>\n",
       "      <td>43.3558,-3.066499</td>\n",
       "      <td>631.209</td>\n",
       "    </tr>\n",
       "    <tr>\n",
       "      <th>4</th>\n",
       "      <td>GIRONA</td>\n",
       "      <td>96188</td>\n",
       "      <td>41.98311,2.82493</td>\n",
       "      <td>BARCELONA</td>\n",
       "      <td>41.35238,2.158441</td>\n",
       "      <td>110.221</td>\n",
       "    </tr>\n",
       "  </tbody>\n",
       "</table>\n",
       "</div>"
      ],
      "text/plain": [
       "         name  population              latlon  port_name         port_latlon  \\\n",
       "0  FUENGIROLA       71482   36.53998,-4.62473  ALGECIRAS  36.13672,-5.434271   \n",
       "1      CALVIA       51774     39.5657,2.50621   VALENCIA  39.44231,-0.316466   \n",
       "2       ARONA       78614  28.09962,-16.68102  LA GOMERA    28.0655,-17.1175   \n",
       "3  PONTEVEDRA       81576     42.431,-8.64435     BILBAO   43.3558,-3.066499   \n",
       "4      GIRONA       96188    41.98311,2.82493  BARCELONA   41.35238,2.158441   \n",
       "\n",
       "   shortest_distance_to_port_km  \n",
       "0                       254.677  \n",
       "1                       284.566  \n",
       "2                        56.399  \n",
       "3                       631.209  \n",
       "4                       110.221  "
      ]
     },
     "metadata": {},
     "output_type": "display_data"
    },
    {
     "data": {
      "text/plain": [
       "'TrayectoCD por mar'"
      ]
     },
     "metadata": {},
     "output_type": "display_data"
    },
    {
     "data": {
      "text/html": [
       "<div>\n",
       "<style scoped>\n",
       "    .dataframe tbody tr th:only-of-type {\n",
       "        vertical-align: middle;\n",
       "    }\n",
       "\n",
       "    .dataframe tbody tr th {\n",
       "        vertical-align: top;\n",
       "    }\n",
       "\n",
       "    .dataframe thead th {\n",
       "        text-align: right;\n",
       "    }\n",
       "</style>\n",
       "<table border=\"1\" class=\"dataframe\">\n",
       "  <thead>\n",
       "    <tr style=\"text-align: right;\">\n",
       "      <th></th>\n",
       "      <th>port_name</th>\n",
       "      <th>distanceLP_nm</th>\n",
       "      <th>distanceLP_km</th>\n",
       "    </tr>\n",
       "  </thead>\n",
       "  <tbody>\n",
       "    <tr>\n",
       "      <th>0</th>\n",
       "      <td>A CORUNA</td>\n",
       "      <td>1001</td>\n",
       "      <td>1853.852</td>\n",
       "    </tr>\n",
       "    <tr>\n",
       "      <th>1</th>\n",
       "      <td>ALGECIRAS</td>\n",
       "      <td>702</td>\n",
       "      <td>1300.104</td>\n",
       "    </tr>\n",
       "    <tr>\n",
       "      <th>2</th>\n",
       "      <td>ALICANTE</td>\n",
       "      <td>997</td>\n",
       "      <td>1846.444</td>\n",
       "    </tr>\n",
       "    <tr>\n",
       "      <th>3</th>\n",
       "      <td>ALMERIA</td>\n",
       "      <td>848</td>\n",
       "      <td>1570.496</td>\n",
       "    </tr>\n",
       "    <tr>\n",
       "      <th>4</th>\n",
       "      <td>AVILES</td>\n",
       "      <td>1098</td>\n",
       "      <td>2033.496</td>\n",
       "    </tr>\n",
       "  </tbody>\n",
       "</table>\n",
       "</div>"
      ],
      "text/plain": [
       "   port_name  distanceLP_nm  distanceLP_km\n",
       "0   A CORUNA           1001       1853.852\n",
       "1  ALGECIRAS            702       1300.104\n",
       "2   ALICANTE            997       1846.444\n",
       "3    ALMERIA            848       1570.496\n",
       "4     AVILES           1098       2033.496"
      ]
     },
     "metadata": {},
     "output_type": "display_data"
    },
    {
     "data": {
      "text/plain": [
       "'TrayectoDL por carretera'"
      ]
     },
     "metadata": {},
     "output_type": "display_data"
    },
    {
     "data": {
      "text/html": [
       "<div>\n",
       "<style scoped>\n",
       "    .dataframe tbody tr th:only-of-type {\n",
       "        vertical-align: middle;\n",
       "    }\n",
       "\n",
       "    .dataframe tbody tr th {\n",
       "        vertical-align: top;\n",
       "    }\n",
       "\n",
       "    .dataframe thead th {\n",
       "        text-align: right;\n",
       "    }\n",
       "</style>\n",
       "<table border=\"1\" class=\"dataframe\">\n",
       "  <thead>\n",
       "    <tr style=\"text-align: right;\">\n",
       "      <th></th>\n",
       "      <th>port_name</th>\n",
       "      <th>port_latlon</th>\n",
       "      <th>punto_llegada_latlon</th>\n",
       "      <th>descarga_llegada_distancia_km</th>\n",
       "    </tr>\n",
       "  </thead>\n",
       "  <tbody>\n",
       "    <tr>\n",
       "      <th>0</th>\n",
       "      <td>LAS PALMAS</td>\n",
       "      <td>28.141,-15.41635</td>\n",
       "      <td>28.086528,-15.434806</td>\n",
       "      <td>13.961</td>\n",
       "    </tr>\n",
       "  </tbody>\n",
       "</table>\n",
       "</div>"
      ],
      "text/plain": [
       "    port_name       port_latlon  punto_llegada_latlon  \\\n",
       "0  LAS PALMAS  28.141,-15.41635  28.086528,-15.434806   \n",
       "\n",
       "   descarga_llegada_distancia_km  \n",
       "0                         13.961  "
      ]
     },
     "metadata": {},
     "output_type": "display_data"
    }
   ],
   "source": [
    "display('TrayectoSC por carretera', salida_carga.head(5))\n",
    "display('TrayectoCD por mar', carga_descarga.head(5))\n",
    "display('TrayectoDL por carretera', descarga_llegada)"
   ]
  },
  {
   "cell_type": "markdown",
   "metadata": {},
   "source": [
    "# Etapa 2: cálculo del consumo de energía y de emisiones de GEI de cada trayecto"
   ]
  },
  {
   "cell_type": "markdown",
   "metadata": {},
   "source": [
    "## Subetapa 2.1: establecimiento del sitema de operación de un vehículo (VOS) relativo a este trayecto"
   ]
  },
  {
   "cell_type": "markdown",
   "metadata": {},
   "source": [
    "### 1. Trayecto salida-carga"
   ]
  },
  {
   "cell_type": "markdown",
   "metadata": {},
   "source": [
    "- Trayecto 1 - VOS de ciudad a puerto por carretera\n",
    "- A 12-24 t lorry transports a container (1 TEU) with average goods. El contenedor pesa 1.95 toneladas, y lleva una carga de 10.5 toneladas, por lo tanto, su peso total es 12.45 toneladas (Table 9, (Schmied2012))\n",
    "- El contenedor está cargado al 60%. **Factor de carga**. Ratio obtenido por la relación entre la carga real y la carga máxima autorizada de un medio de transporte. (AENOR2013)\n",
    "- Specific energy consumption (Table 12, (Schimied2012)) = 0.24 liter/TEU-km. Ya considera Additional empty trips +10% (Schmied2012).\n",
    "- Asumimos que el camión viaja mayoritariamente por autopistas/autovías, por terreno plano. No aplicamos factor de corrección por el uso de carreteras urbanas.\n",
    "- El motor es de diesel (no biofuel).\n",
    "- Calculamos sólo ida."
   ]
  },
  {
   "cell_type": "markdown",
   "metadata": {},
   "source": [
    "### 2. Trayecto carga-descarga"
   ]
  },
  {
   "cell_type": "markdown",
   "metadata": {},
   "source": [
    "- Trayecto 2 - VOS de puerto a Puerto de Las Palmas\n",
    "- Un buque RoRo "
   ]
  },
  {
   "cell_type": "markdown",
   "metadata": {},
   "source": [
    "### 3. Trayecto descarga-llegada"
   ]
  },
  {
   "cell_type": "markdown",
   "metadata": {},
   "source": [
    "- Trayecto 3 - VOS de Puerto de Las Palmas a punto de despacho\n",
    "- Un camión < 7.5 t GVW transporta average goods tiene un maximum payload de 3.5 t y como va al 60% de su capacidad total, la carga que transporta pesa 2.1 t. Additional empty trips = 20% (Schmied2012, Tabla 10)\n",
    "- Asumimos que el terreno por el que circula es relativamente plano.\n",
    "- Transporta average goods\n",
    "- En base a lo anterior, specific energy consumption litre/tkm = 0.077\n",
    "- Este trayecto se realiza en Gran Canaria (puerto-llegada) y aplicamos un factor de corrección  (Schmied2012, Tabla 11). El factor de corrección es 0.9.\n",
    "- El camión es de diesel."
   ]
  },
  {
   "cell_type": "markdown",
   "metadata": {},
   "source": [
    "## Subetapa 2.2: cuantificación del consumo total de combustible para el VOS"
   ]
  },
  {
   "cell_type": "markdown",
   "metadata": {},
   "source": [
    "- La distancia a cubrir es entre las ciudades de origen en la península y en el resto de islas Canarias (no GC) está en la tabla *salida_carga_distance*.\n",
    "- Para el cálculo del consumo de combustible utilizaremos el *consumo energético específico* o *specific energy consumption*. Table 12 de (Schimied2012)"
   ]
  },
  {
   "cell_type": "markdown",
   "metadata": {},
   "source": [
    "### 1. Trayecto salida-carga"
   ]
  },
  {
   "cell_type": "code",
   "execution_count": 85,
   "metadata": {},
   "outputs": [],
   "source": [
    "# Definir funcion para el cálculo del consumo de diesel en base a la distancia.\n",
    "def salida_carga_diesel(distancia_trayecto):\n",
    "    specific_energy_consumption_lTEUkm = 0.24\n",
    "    diesel_l = distancia_trayecto * specific_energy_consumption_lTEUkm\n",
    "    return diesel_l"
   ]
  },
  {
   "cell_type": "code",
   "execution_count": 86,
   "metadata": {},
   "outputs": [],
   "source": [
    "salida_carga['consumo_diesel_TEU_l'] = salida_carga.apply(lambda row: salida_carga_diesel(row['shortest_distance_to_port_km']), axis=1)"
   ]
  },
  {
   "cell_type": "markdown",
   "metadata": {},
   "source": [
    "### 2. Trayecto carga-descarga"
   ]
  },
  {
   "cell_type": "markdown",
   "metadata": {},
   "source": [
    "### 3. Trayecto descarga-llegada"
   ]
  },
  {
   "cell_type": "code",
   "execution_count": 87,
   "metadata": {},
   "outputs": [],
   "source": [
    "# Definir funcion para el cálculo del consumo de diesel en base a la distancia.\n",
    "def descarga_llegada_diesel(distancia_trayecto):\n",
    "    specific_energy_consumption_ltkm = 0.077\n",
    "    actual_cargo_weight_t = 2.1\n",
    "    factor_correccion_carreteras_urbanas = 0.9\n",
    "    diesel_l = (distancia_trayecto * actual_cargo_weight_t * specific_energy_consumption_ltkm) * factor_correccion_carreteras_urbanas\n",
    "    return diesel_l"
   ]
  },
  {
   "cell_type": "code",
   "execution_count": 88,
   "metadata": {},
   "outputs": [],
   "source": [
    "descarga_llegada['consumo_diesel_total_l'] = descarga_llegada.apply(lambda row: descarga_llegada_diesel(row['descarga_llegada_distancia_km']), axis=1)"
   ]
  },
  {
   "cell_type": "markdown",
   "metadata": {},
   "source": [
    "## Subetapa 2.3: cálculo del consumo total de energía y de emisiones de GEI para este VOS"
   ]
  },
  {
   "cell_type": "markdown",
   "metadata": {},
   "source": [
    "En base al consumo de combustible, se calcula:\n",
    "1. Consumo de energía de total (MJ). Para esto se multiplica por los factores energéticos (WTW y TTW).\n",
    "2. Emisiones de carbono (kgCO2/e). Para esto se multiplica por los factores de emisión (WTW y TTW)."
   ]
  },
  {
   "cell_type": "markdown",
   "metadata": {},
   "source": [
    "### 1. Trayecto salida-carga"
   ]
  },
  {
   "cell_type": "markdown",
   "metadata": {},
   "source": [
    "#### Energía total"
   ]
  },
  {
   "cell_type": "code",
   "execution_count": 89,
   "metadata": {},
   "outputs": [],
   "source": [
    "# Datos (AENOR2013)\n",
    "def carretera_consumo_energetico_TTW(consumo_diesel):\n",
    "    factor_energetico_TTW_et_MJl = 35.9\n",
    "    carretera_TTW_MJ = consumo_diesel * factor_energetico_TTW_et_MJl\n",
    "    return carretera_TTW_MJ"
   ]
  },
  {
   "cell_type": "code",
   "execution_count": 90,
   "metadata": {},
   "outputs": [],
   "source": [
    "def carretera_consumo_energetico_WTW(consumo_diesel):\n",
    "    factor_energetico_WTW_ew_MJl = 42.7\n",
    "    carretera_WTW_MJ = consumo_diesel * factor_energetico_WTW_ew_MJl\n",
    "    return carretera_WTW_MJ"
   ]
  },
  {
   "cell_type": "code",
   "execution_count": 91,
   "metadata": {},
   "outputs": [],
   "source": [
    "def carretera_consumo_energetico_WTT(consumo_diesel):\n",
    "    wtw = carretera_consumo_energetico_WTW(consumo_diesel)\n",
    "    ttw = carretera_consumo_energetico_TTW(consumo_diesel)\n",
    "    wtt = wtw - ttw\n",
    "    return wtt"
   ]
  },
  {
   "cell_type": "markdown",
   "metadata": {},
   "source": [
    "#### Emisiones carbono"
   ]
  },
  {
   "cell_type": "code",
   "execution_count": 92,
   "metadata": {},
   "outputs": [],
   "source": [
    "# Datos (AENOR2013)\n",
    "def carretera_emisiones_carbono_TTW(consumo_diesel):\n",
    "    factor_emision_TTW_gt_kgCO2el = 2.67\n",
    "    carretera_TTW_kgCO2e = consumo_diesel * factor_emision_TTW_gt_kgCO2el\n",
    "    return carretera_TTW_kgCO2e"
   ]
  },
  {
   "cell_type": "code",
   "execution_count": 93,
   "metadata": {},
   "outputs": [],
   "source": [
    "def carretera_emisiones_carbono_WTW(consumo_diesel):\n",
    "    factor_emision_WTW_gw_kgCO2el = 3.24\n",
    "    carretera_WTW_kgCO2e = consumo_diesel * factor_emision_WTW_gw_kgCO2el\n",
    "    return carretera_WTW_kgCO2e"
   ]
  },
  {
   "cell_type": "code",
   "execution_count": 94,
   "metadata": {},
   "outputs": [],
   "source": [
    "def carretera_emisiones_carbono_WTT(consumo_diesel):\n",
    "    wtw = carretera_emisiones_carbono_WTW(consumo_diesel)\n",
    "    ttw = carretera_emisiones_carbono_TTW(consumo_diesel)\n",
    "    wtt = wtw - ttw\n",
    "    return wtt"
   ]
  },
  {
   "cell_type": "code",
   "execution_count": 95,
   "metadata": {},
   "outputs": [],
   "source": [
    "salida_carga['emisionesC_TTW_TEU_kgCO2e'] = salida_carga.apply(lambda row: carretera_emisiones_carbono_TTW(row['consumo_diesel_TEU_l']), axis=1)\n",
    "\n",
    "salida_carga['emisionesC_WTT_TEU_kgCO2e'] = salida_carga.apply(lambda row: carretera_emisiones_carbono_WTT(row['consumo_diesel_TEU_l']), axis=1)\n",
    "\n",
    "salida_carga['emisionesC_WTW_TEU_kgCO2e'] = salida_carga.apply(lambda row: carretera_emisiones_carbono_WTW(row['consumo_diesel_TEU_l']), axis=1)"
   ]
  },
  {
   "cell_type": "markdown",
   "metadata": {},
   "source": [
    "### 2. Trayecto carga-descarga"
   ]
  },
  {
   "cell_type": "markdown",
   "metadata": {},
   "source": [
    "### 3. Trayecto descarga-llegada"
   ]
  },
  {
   "cell_type": "markdown",
   "metadata": {},
   "source": [
    "#### Emisiones carbono"
   ]
  },
  {
   "cell_type": "markdown",
   "metadata": {},
   "source": [
    "Aprovechamos las funciones definidas para el Tramo salida_carga."
   ]
  },
  {
   "cell_type": "code",
   "execution_count": 96,
   "metadata": {},
   "outputs": [],
   "source": [
    "descarga_llegada['emisionesC_TTW_total_kgCO2e'] = descarga_llegada.apply(lambda row: carretera_emisiones_carbono_TTW(row['consumo_diesel_total_l']), axis=1)\n",
    "\n",
    "descarga_llegada['emisionesC_WTT_total_kgCO2e'] = descarga_llegada.apply(lambda row: carretera_emisiones_carbono_WTT(row['consumo_diesel_total_l']), axis=1)\n",
    "\n",
    "descarga_llegada['emisionesC_WTW_total_kgCO2e'] = descarga_llegada.apply(lambda row: carretera_emisiones_carbono_WTW(row['consumo_diesel_total_l']), axis=1)"
   ]
  },
  {
   "cell_type": "markdown",
   "metadata": {},
   "source": [
    "## Subetapa 2.4: asignación de este trayecto a una porción de cada uno de los cuatro resultados de la Subetapa 2.3"
   ]
  },
  {
   "cell_type": "markdown",
   "metadata": {},
   "source": [
    "- Ahora se debe asignar una parte de la energía y de las emisiones calculadas,\n",
    "correspondiente a su participación relativa en la actividad de transporte ralizada\n",
    "dentro del VOS.\n",
    "- Ver (AENOR2013) pg. 18.\n",
    "    - Primero calculamos **S(trayecto)**, el factor utilizado para calcularla proporción\n",
    "    de la energía y de las emisiones del VOS que se asignan a un servicio de transporte\n",
    "    para el trayecto y para el VOS asociado.\n",
    "    - S(trayecto) = T(trayecto) / T(VOS)\n",
    "        - T(trayecto): actividade de transporte del servicio de transport para el trayecto\n",
    "        - T(VOS): actividad de transporte del VOS relativo al trayecto\n",
    "- Datos cálculo: \n",
    "    - Peso total del contenedor es 12.45 toneladas (Table 9, (Schmied2012)).\n",
    "    - Peso de la mercancía transportada 0.125 toneladas. Share of diesel consumption per tonne cargo."
   ]
  },
  {
   "cell_type": "markdown",
   "metadata": {},
   "source": [
    "### 1. Trayecto salida-carga"
   ]
  },
  {
   "cell_type": "markdown",
   "metadata": {},
   "source": [
    "#### Factor proporción libros"
   ]
  },
  {
   "cell_type": "code",
   "execution_count": 97,
   "metadata": {},
   "outputs": [],
   "source": [
    "# Añadir peso de los libros\n",
    "salida_carga = pd.merge(salida_carga, libros[['libro_titulo', 'peso_t_500libros']], how='cross')"
   ]
  },
  {
   "cell_type": "code",
   "execution_count": 98,
   "metadata": {},
   "outputs": [],
   "source": [
    "def carretera_factor_proporcion_carga(peso_total, peso_mercancia):\n",
    "    factor = peso_mercancia / peso_total\n",
    "    return factor"
   ]
  },
  {
   "cell_type": "markdown",
   "metadata": {},
   "source": [
    "#### Energía total"
   ]
  },
  {
   "cell_type": "code",
   "execution_count": 99,
   "metadata": {},
   "outputs": [],
   "source": [
    "def carretera_consumo_energetico_proporcion_TTW(peso_total, peso_mercancia, consumo_diesel):\n",
    "    factor = carretera_factor_proporcion_carga(peso_total, peso_mercancia)\n",
    "    total = carretera_consumo_energetico_TTW(consumo_diesel)\n",
    "    proporcion = factor * total\n",
    "    return proporcion"
   ]
  },
  {
   "cell_type": "code",
   "execution_count": 100,
   "metadata": {},
   "outputs": [],
   "source": [
    "def carretera_consumo_energetico_proporcion_WTW(peso_total, peso_mercancia, consumo_diesel):\n",
    "    factor = carretera_factor_proporcion_carga(peso_total, peso_mercancia)\n",
    "    total = carretera_consumo_energetico_WTW(consumo_diesel)\n",
    "    proporcion = factor * total\n",
    "    return proporcion"
   ]
  },
  {
   "cell_type": "code",
   "execution_count": 101,
   "metadata": {},
   "outputs": [],
   "source": [
    "def carretera_consumo_energetico_proporcion_WTT(peso_total, peso_mercancia, consumo_diesel):\n",
    "    factor = carretera_factor_proporcion_carga(peso_total, peso_mercancia)\n",
    "    total = carretera_consumo_energetico_WTT(consumo_diesel)\n",
    "    proporcion = factor * total\n",
    "    return proporcion"
   ]
  },
  {
   "cell_type": "markdown",
   "metadata": {},
   "source": [
    "#### Emisiones carbono"
   ]
  },
  {
   "cell_type": "code",
   "execution_count": 102,
   "metadata": {},
   "outputs": [],
   "source": [
    "def carretera_emisiones_carbono_proporcion_TTW(peso_total, peso_mercancia, consumo_diesel):\n",
    "    factor = carretera_factor_proporcion_carga(peso_total, peso_mercancia)\n",
    "    total = carretera_emisiones_carbono_TTW(consumo_diesel)\n",
    "    proporcion = factor * total\n",
    "    return proporcion"
   ]
  },
  {
   "cell_type": "code",
   "execution_count": 103,
   "metadata": {},
   "outputs": [],
   "source": [
    "def carretera_emisiones_carbono_proporcion_WTW(peso_total, peso_mercancia, consumo_diesel):\n",
    "    factor = carretera_factor_proporcion_carga(peso_total, peso_mercancia)\n",
    "    total = carretera_emisiones_carbono_WTW(consumo_diesel)\n",
    "    proporcion = factor * total\n",
    "    return proporcion"
   ]
  },
  {
   "cell_type": "code",
   "execution_count": 104,
   "metadata": {},
   "outputs": [],
   "source": [
    "def carretera_emisiones_carbono_proporcion_WTT(peso_total, peso_mercancia, consumo_diesel):\n",
    "    factor = carretera_factor_proporcion_carga(peso_total, peso_mercancia)\n",
    "    total = carretera_emisiones_carbono_WTT(consumo_diesel)\n",
    "    proporcion = factor * total\n",
    "    return proporcion"
   ]
  },
  {
   "cell_type": "code",
   "execution_count": 105,
   "metadata": {},
   "outputs": [],
   "source": [
    "# El contendor pesa en total 12.45 tonnes\n",
    "salida_carga['emisionesC_TTW_libros_kgCO2e'] = salida_carga.apply(lambda row: carretera_emisiones_carbono_proporcion_TTW(peso_total=12.45, peso_mercancia=row['peso_t_500libros'], consumo_diesel=row['consumo_diesel_TEU_l']), axis=1)\n",
    "\n",
    "salida_carga['emisionesC_WTT_libros_kgCO2e'] = salida_carga.apply(lambda row: carretera_emisiones_carbono_proporcion_WTT(peso_total=12.45, peso_mercancia=row['peso_t_500libros'], consumo_diesel=row['consumo_diesel_TEU_l']), axis=1)\n",
    "\n",
    "salida_carga['emisionesC_WTW_libros_kgCO2e'] = salida_carga.apply(lambda row: carretera_emisiones_carbono_proporcion_WTW(peso_total=12.45, peso_mercancia=row['peso_t_500libros'], consumo_diesel=row['consumo_diesel_TEU_l']), axis=1)"
   ]
  },
  {
   "cell_type": "markdown",
   "metadata": {},
   "source": [
    "### 2. Trayecto carga-descarga"
   ]
  },
  {
   "cell_type": "markdown",
   "metadata": {},
   "source": [
    "### 3. Trayecto descarga-llegada"
   ]
  },
  {
   "cell_type": "code",
   "execution_count": 106,
   "metadata": {},
   "outputs": [],
   "source": [
    "descarga_llegada = pd.merge(descarga_llegada, libros[['libro_titulo', 'peso_t_500libros']], how='cross')"
   ]
  },
  {
   "cell_type": "markdown",
   "metadata": {},
   "source": [
    "Aprovechamos las funciones definidas para el Tramo salida_carga."
   ]
  },
  {
   "cell_type": "code",
   "execution_count": 108,
   "metadata": {},
   "outputs": [],
   "source": [
    "# Asumimos que el camión lleva una carga de 2.1 toneladas.\n",
    "descarga_llegada['emisionesC_TTW_libros_kgCO2e'] = descarga_llegada.apply(lambda row: carretera_emisiones_carbono_proporcion_TTW(peso_total=2.1, peso_mercancia=row['peso_t_500libros'], consumo_diesel=row['consumo_diesel_total_l']), axis=1)\n",
    "\n",
    "descarga_llegada['emisionesC_WTT_libros_kgCO2e'] = descarga_llegada.apply(lambda row: carretera_emisiones_carbono_proporcion_WTT(peso_total=2.1, peso_mercancia=row['peso_t_500libros'], consumo_diesel=row['consumo_diesel_total_l']), axis=1)\n",
    "\n",
    "descarga_llegada['emisionesC_WTW_libros_kgCO2e'] = descarga_llegada.apply(lambda row: carretera_emisiones_carbono_proporcion_WTW(peso_total=2.1, peso_mercancia=row['peso_t_500libros'], consumo_diesel=row['consumo_diesel_total_l']), axis=1)"
   ]
  }
 ],
 "metadata": {
  "kernelspec": {
   "display_name": "Huella-carbono-transporte-editorial-rRnBe7lo",
   "language": "python",
   "name": "python3"
  },
  "language_info": {
   "codemirror_mode": {
    "name": "ipython",
    "version": 3
   },
   "file_extension": ".py",
   "mimetype": "text/x-python",
   "name": "python",
   "nbconvert_exporter": "python",
   "pygments_lexer": "ipython3",
   "version": "3.10.6"
  },
  "orig_nbformat": 4
 },
 "nbformat": 4,
 "nbformat_minor": 2
}
